{
 "cells": [
  {
   "cell_type": "markdown",
   "id": "6709338d",
   "metadata": {},
   "source": [
    "# DATA STRUCTURES\n",
    "\n",
    "A data structure is collection of data elements (num, chars) that is structured in a way. for example numbering a elements.\n",
    "The most basic data structure is \"sequence\"\n",
    "\n",
    "-> List is a sequence\n",
    "-> list is a collection of items\n",
    "-> List is mutable and tuples are unmutable"
   ]
  },
  {
   "cell_type": "code",
   "execution_count": 1,
   "id": "c95ee4f4",
   "metadata": {},
   "outputs": [
    {
     "name": "stdout",
     "output_type": "stream",
     "text": [
      "[1, 'one', 'apple', 1.5]\n"
     ]
    }
   ],
   "source": [
    "#LIST CREATION\n",
    "\n",
    "emptyList = []\n",
    "lst = ['one','two']\n",
    "lst2 =  [1,2,3,4]\n",
    "lst3 = [[1,2],[1,4]]\n",
    "lst4 = [1,'one','apple',1.5]\n",
    "print(lst4)"
   ]
  },
  {
   "cell_type": "code",
   "execution_count": 2,
   "id": "24c19cd1",
   "metadata": {},
   "outputs": [
    {
     "name": "stdout",
     "output_type": "stream",
     "text": [
      "['one', 'two', 'three', 'four']\n"
     ]
    }
   ],
   "source": [
    "# LIST APPEND\n",
    "lst = ['one','two','three']\n",
    "\n",
    "lst.append('four')\n",
    "print(lst)"
   ]
  },
  {
   "cell_type": "code",
   "execution_count": 3,
   "id": "917c7072",
   "metadata": {},
   "outputs": [
    {
     "name": "stdout",
     "output_type": "stream",
     "text": [
      "['one', 'two', 'four', 'three']\n"
     ]
    }
   ],
   "source": [
    "# LIST INSERT\n",
    "lst = ['one','two','three']\n",
    "\n",
    "lst.insert(2, \"four\") # will insert element \"four\" at index 2\n",
    "\n",
    "print(lst)\n"
   ]
  },
  {
   "cell_type": "code",
   "execution_count": 4,
   "id": "0fbb90ed",
   "metadata": {},
   "outputs": [
    {
     "name": "stdout",
     "output_type": "stream",
     "text": [
      "['one', 'three', 'apple', 'bird']\n"
     ]
    }
   ],
   "source": [
    "# LIST REMOVE\n",
    "\n",
    "lst = ['one','apple','three','apple','bird']\n",
    "lst.remove('apple') #it will only remove the first occurence of apple\n",
    "\n",
    "print(lst)"
   ]
  },
  {
   "cell_type": "code",
   "execution_count": 5,
   "id": "cb8121b8",
   "metadata": {},
   "outputs": [
    {
     "name": "stdout",
     "output_type": "stream",
     "text": [
      "['one', 'apple', 'three', 'apple', 'bird', 'four', 'five', 'six']\n"
     ]
    }
   ],
   "source": [
    "# LIST APPEND & EXTEND\n",
    "\n",
    "lst = ['one','apple','three','apple','bird']\n",
    "lst1 = ['four','five','six']\n",
    "\n",
    "lst.extend(lst1)\n",
    "\n",
    "print(lst)\n"
   ]
  },
  {
   "cell_type": "code",
   "execution_count": 9,
   "id": "b6d74fee",
   "metadata": {},
   "outputs": [
    {
     "name": "stdout",
     "output_type": "stream",
     "text": [
      "['one', 'three', 'apple', 'bird']\n",
      "['one', 'three', 'bird']\n",
      "['one', 'three']\n"
     ]
    }
   ],
   "source": [
    "# LIST DELETE\n",
    "\n",
    "lst = ['one','apple','three','apple','bird']\n",
    "\n",
    "del lst[1]\n",
    "\n",
    "print(lst)\n",
    " \n",
    "# OR\n",
    "\n",
    "lst.pop(2)\n",
    "\n",
    "print(lst)\n",
    "\n",
    "# OR\n",
    "\n",
    "lst.remove('bird')\n",
    "print(lst)"
   ]
  },
  {
   "cell_type": "code",
   "execution_count": 10,
   "id": "18217c7a",
   "metadata": {},
   "outputs": [
    {
     "name": "stdout",
     "output_type": "stream",
     "text": [
      "yay\n",
      "bird in the list\n"
     ]
    }
   ],
   "source": [
    "# LIST RELATED KEYWORDS IN PYTHON\n",
    "\n",
    "    # 'in' is used to test if an item is in the list\n",
    "    \n",
    "lst = ['one','apple','three','apple','bird']\n",
    "\n",
    "if 'apple' in lst:\n",
    "    print(\"yay\")\n",
    "    \n",
    "if 'bird' not in lst:\n",
    "    print(\"brid is not there\")\n",
    "else:\n",
    "    print(\"bird in the list\")"
   ]
  },
  {
   "cell_type": "code",
   "execution_count": 11,
   "id": "f307fedf",
   "metadata": {},
   "outputs": [
    {
     "name": "stdout",
     "output_type": "stream",
     "text": [
      "['bird', 'apple', 'three', 'apple', 'one']\n"
     ]
    }
   ],
   "source": [
    "# LIST REVERSE\n",
    "\n",
    "lst = ['one','apple','three','apple','bird']\n",
    "\n",
    "lst.reverse()\n",
    "print(lst)"
   ]
  },
  {
   "cell_type": "markdown",
   "id": "c021d515",
   "metadata": {},
   "source": [
    "# List Sorting\n",
    "\n",
    "The easiest way to sort a list is sorted(list) function\n",
    "then take a list and returns the elements in the sorted order,\n",
    "the original list is not changed.\n",
    "the sorted() optional argument reverse=True, ex: sorted(list,reverse=True), make it sort backwards.\n"
   ]
  },
  {
   "cell_type": "code",
   "execution_count": 12,
   "id": "32e3a55b",
   "metadata": {},
   "outputs": [
    {
     "name": "stdout",
     "output_type": "stream",
     "text": [
      "['apple', 'apple', 'bird', 'one', 'three']\n"
     ]
    }
   ],
   "source": [
    "lst = ['one','apple','three','apple','bird']\n",
    "\n",
    "sorted_lst=sorted(lst)\n",
    "print(sorted_lst)"
   ]
  },
  {
   "cell_type": "code",
   "execution_count": 13,
   "id": "2b6698ac",
   "metadata": {},
   "outputs": [
    {
     "name": "stdout",
     "output_type": "stream",
     "text": [
      "['three', 'one', 'bird', 'apple', 'apple']\n"
     ]
    }
   ],
   "source": [
    "# Print the sorted list in reverse order\n",
    "\n",
    "reverse_sorted_lst=sorted(lst,reverse=True)\n",
    "\n",
    "print(reverse_sorted_lst)"
   ]
  },
  {
   "cell_type": "code",
   "execution_count": 18,
   "id": "8f7bfb5b",
   "metadata": {},
   "outputs": [
    {
     "name": "stdout",
     "output_type": "stream",
     "text": [
      "['apple', 'apple', 'bird', 'one', 'three']\n"
     ]
    }
   ],
   "source": [
    "#directly print the stuff\n",
    "lst = ['one','apple','three','apple','bird']\n",
    "lst.sort()\n",
    "\n",
    "print (lst)"
   ]
  },
  {
   "cell_type": "code",
   "execution_count": 19,
   "id": "eaa40c8f",
   "metadata": {},
   "outputs": [
    {
     "ename": "TypeError",
     "evalue": "'<' not supported between instances of 'int' and 'str'",
     "output_type": "error",
     "traceback": [
      "\u001b[0;31m---------------------------------------------------------------------------\u001b[0m",
      "\u001b[0;31mTypeError\u001b[0m                                 Traceback (most recent call last)",
      "Input \u001b[0;32mIn [19]\u001b[0m, in \u001b[0;36m<cell line: 4>\u001b[0;34m()\u001b[0m\n\u001b[1;32m      1\u001b[0m \u001b[38;5;66;03m# Exception is you cant sort various data types.\u001b[39;00m\n\u001b[1;32m      3\u001b[0m lst \u001b[38;5;241m=\u001b[39m [\u001b[38;5;124m'\u001b[39m\u001b[38;5;124mone\u001b[39m\u001b[38;5;124m'\u001b[39m,\u001b[38;5;124m'\u001b[39m\u001b[38;5;124mapple\u001b[39m\u001b[38;5;124m'\u001b[39m,\u001b[38;5;241m2\u001b[39m,\u001b[38;5;241m1\u001b[39m,\u001b[38;5;124m'\u001b[39m\u001b[38;5;124mbird\u001b[39m\u001b[38;5;124m'\u001b[39m]\n\u001b[0;32m----> 4\u001b[0m \u001b[43mlst\u001b[49m\u001b[38;5;241;43m.\u001b[39;49m\u001b[43msort\u001b[49m\u001b[43m(\u001b[49m\u001b[43m)\u001b[49m\n\u001b[1;32m      6\u001b[0m \u001b[38;5;28mprint\u001b[39m (lst)\n",
      "\u001b[0;31mTypeError\u001b[0m: '<' not supported between instances of 'int' and 'str'"
     ]
    }
   ],
   "source": [
    "# Exception is you cant sort various data types.\n",
    "\n",
    "lst = ['one','apple',2,1,'bird']\n",
    "lst.sort()\n",
    "\n",
    "print (lst)"
   ]
  },
  {
   "cell_type": "code",
   "execution_count": 20,
   "id": "ea3a4cd7",
   "metadata": {},
   "outputs": [
    {
     "name": "stdout",
     "output_type": "stream",
     "text": [
      "original list [1, 2, 4, 5, 6, '9']\n"
     ]
    }
   ],
   "source": [
    "# List having Multiple references\n",
    "\n",
    "lst=[1,2,4,5,6]\n",
    "abc = lst.append('9')\n",
    "\n",
    "print(\"original list\",lst)"
   ]
  },
  {
   "cell_type": "code",
   "execution_count": 23,
   "id": "65da3b22",
   "metadata": {},
   "outputs": [
    {
     "name": "stdout",
     "output_type": "stream",
     "text": [
      "['one', 'two', 'three', 'four']\n"
     ]
    }
   ],
   "source": [
    "# String Split to create a List\n",
    "\n",
    "s = \"one,two,three,four\"\n",
    "slst = s.split(',')\n",
    "print(slst)"
   ]
  },
  {
   "cell_type": "code",
   "execution_count": 2,
   "id": "19ec3c6e",
   "metadata": {},
   "outputs": [
    {
     "name": "stdout",
     "output_type": "stream",
     "text": [
      "2\n",
      "6\n"
     ]
    }
   ],
   "source": [
    "# LIST Indexing\n",
    "\n",
    "# Each Item in the list has an asinged index valuestartng from 0\n",
    "#Accessing elements via this index number is called indexing\n",
    "\n",
    "lst = [1,2,3,4,5,6]\n",
    "print(lst[1])\n",
    "\n",
    "#print last element using negative index\n",
    "\n",
    "print(lst[-1])"
   ]
  },
  {
   "cell_type": "code",
   "execution_count": 3,
   "id": "066c38fa",
   "metadata": {},
   "outputs": [
    {
     "name": "stdout",
     "output_type": "stream",
     "text": [
      "[1, 2, 4, 5, 6, 78, 89, 75, 3, 5, 7]\n",
      "[1, 2, 4, 5]\n",
      "[1, 4, 6, 89, 3, 7]\n",
      "[7, 5, 3, 75, 89, 78, 6, 5, 4, 2, 1]\n"
     ]
    }
   ],
   "source": [
    "# List Slicling\n",
    "\n",
    "# Accessing parts of segment in a list is called slicing.\n",
    "# the key point end point represents the first value in the selected slice\n",
    "# [starting_index:end_index:jump_value]\n",
    "\n",
    "lst = [1,2,4,5,6,78,89,75,3,5,7]\n",
    "\n",
    "# Print all numbers\n",
    "print(lst[:])\n",
    "\n",
    "#print from index 0 to 5\n",
    "print(lst[0:4])\n",
    "\n",
    "#Print every alternate number\n",
    "print(lst[::2])\n",
    "\n",
    "#Reverse a list\n",
    "print(lst[::-1])\n"
   ]
  },
  {
   "cell_type": "code",
   "execution_count": 4,
   "id": "a57c4814",
   "metadata": {},
   "outputs": [
    {
     "name": "stdout",
     "output_type": "stream",
     "text": [
      "[1, 2, 4, 5, 6, 78, 89, 75, 3, 5, 7, 'apple', 'ball', 'cat']\n"
     ]
    }
   ],
   "source": [
    "# List extend using \"+\"\n",
    "lst = [1,2,4,5,6,78,89,75,3,5,7]\n",
    "\n",
    "lst22 = [\"apple\",\"ball\",\"cat\"]\n",
    "\n",
    "new_lst = lst + lst22\n",
    "\n",
    "print(new_lst)\n"
   ]
  },
  {
   "cell_type": "code",
   "execution_count": 5,
   "id": "5f9e43da",
   "metadata": {},
   "outputs": [
    {
     "name": "stdout",
     "output_type": "stream",
     "text": [
      "1\n",
      "1\n"
     ]
    }
   ],
   "source": [
    "# Count function in List\n",
    "lst = [1,2,4,5,6,78,89,75,3,5,7]\n",
    "print(lst.count(1))\n",
    "print(lst.count(89))"
   ]
  },
  {
   "cell_type": "code",
   "execution_count": 6,
   "id": "76a5935d",
   "metadata": {},
   "outputs": [
    {
     "name": "stdout",
     "output_type": "stream",
     "text": [
      "1\n",
      "2\n",
      "4\n",
      "5\n",
      "6\n",
      "78\n",
      "89\n",
      "75\n",
      "3\n",
      "5\n",
      "7\n"
     ]
    }
   ],
   "source": [
    "# Looping in the list\n",
    "lst = [1,2,4,5,6,78,89,75,3,5,7]\n",
    "for element in lst:\n",
    "    print(element)\n"
   ]
  },
  {
   "cell_type": "markdown",
   "id": "ae196d6b",
   "metadata": {},
   "source": [
    "# List Comprehensions\n",
    "\n",
    "Its provides a concise way to create lists\n",
    "Common applications include to make new lists where each element is the result of some operations "
   ]
  },
  {
   "cell_type": "code",
   "execution_count": 7,
   "id": "997229da",
   "metadata": {},
   "outputs": [
    {
     "name": "stdout",
     "output_type": "stream",
     "text": [
      "[0, 1, 4, 9, 16]\n"
     ]
    }
   ],
   "source": [
    "#WITHOUT LIST COMPREHENSION\n",
    "squares = []\n",
    "for i in range(5):\n",
    "    squares.append(i**2)\n",
    "print(squares)"
   ]
  },
  {
   "cell_type": "code",
   "execution_count": 8,
   "id": "52f9deef",
   "metadata": {},
   "outputs": [
    {
     "name": "stdout",
     "output_type": "stream",
     "text": [
      "[0, 1, 4, 9, 16]\n"
     ]
    }
   ],
   "source": [
    "# List Comprehension\n",
    "squares = [i**2 for i in range(5)]\n",
    "print(squares)"
   ]
  },
  {
   "cell_type": "code",
   "execution_count": 18,
   "id": "c8b972ac",
   "metadata": {},
   "outputs": [
    {
     "name": "stdout",
     "output_type": "stream",
     "text": [
      "[1, 4, 16, 36, 64, 361, 16, 25, 36, 49]\n",
      "[1, 4, 16, 25, 36, 49]\n",
      "[(0, 0), (1, 1), (2, 4), (3, 9), (4, 16), (5, 25), (6, 36), (7, 49), (8, 64), (9, 81)]\n"
     ]
    }
   ],
   "source": [
    "#EXAMPLES\n",
    "\n",
    "lst = [1,2,-4,-6,-8,-19,4,5,6,7]\n",
    "new_lst=[i**2 for i in lst]\n",
    "print(new_lst)\n",
    "\n",
    "\n",
    "# Square all the elements only that are positive\n",
    "positive_lst=[i**2 for i in lst if i >= 0]\n",
    "print(positive_lst)\n",
    "\n",
    "# Create a tuple from list\n",
    "tup = [(i,i**2) for i in range(10)]\n",
    "print(tup)"
   ]
  },
  {
   "cell_type": "code",
   "execution_count": 20,
   "id": "b8e54d71",
   "metadata": {},
   "outputs": [
    {
     "name": "stdout",
     "output_type": "stream",
     "text": [
      "[[1, 5, 9], [2, 6, 10], [3, 7, 11], [4, 8, 12]]\n"
     ]
    }
   ],
   "source": [
    "# NESTED LIST COMPREHENSIONS\n",
    "\n",
    "# Lets take a matrix\n",
    "matrix = [\n",
    "    [1,2,3,4],\n",
    "    [5,6,7,8],\n",
    "    [9,10,11,12]\n",
    "]\n",
    "\n",
    "# Transpose of a matrix without list comprehension (inverse matrix)\n",
    "transposed = []\n",
    "for i in range(4):\n",
    "    lst = []\n",
    "    for row in matrix:\n",
    "        lst.append(row[i])\n",
    "    transposed.append(lst)\n",
    "    \n",
    "print(transposed)"
   ]
  },
  {
   "cell_type": "code",
   "execution_count": 2,
   "id": "6d291d38",
   "metadata": {},
   "outputs": [
    {
     "name": "stdout",
     "output_type": "stream",
     "text": [
      "[[1, 5, 9], [2, 6, 10], [3, 7, 11], [4, 8, 12]]\n"
     ]
    }
   ],
   "source": [
    "#With List comphrehension\n",
    "matrix = [\n",
    "    [1,2,3,4],\n",
    "    [5,6,7,8],\n",
    "    [9,10,11,12]\n",
    "]\n",
    "transposed = [[row[i] for row in matrix] for i in range(4)]\n",
    "print(transposed)"
   ]
  },
  {
   "cell_type": "markdown",
   "id": "6dd7592c",
   "metadata": {},
   "source": [
    "# TUPLES\n",
    "\n",
    "    A tuple is similar to an list but its immutable."
   ]
  },
  {
   "cell_type": "code",
   "execution_count": 5,
   "id": "56fb16ed",
   "metadata": {},
   "outputs": [
    {
     "name": "stdout",
     "output_type": "stream",
     "text": [
      "(1, 'raju', 28, 'abc')\n",
      "(1, (1, 2, 3), [1, 'raju', 'abc'])\n"
     ]
    }
   ],
   "source": [
    "#empty tuple\n",
    "t = ()\n",
    "\n",
    "# tuple with mixed data types\n",
    "t = (1, 'raju', 28, 'abc')\n",
    "print(t)\n",
    "\n",
    "#nested tuples\n",
    "t= (1,(1,2,3),[1,'raju','abc'])\n",
    "print(t)"
   ]
  },
  {
   "cell_type": "code",
   "execution_count": 6,
   "id": "80d12d38",
   "metadata": {},
   "outputs": [
    {
     "data": {
      "text/plain": [
       "str"
      ]
     },
     "execution_count": 6,
     "metadata": {},
     "output_type": "execute_result"
    }
   ],
   "source": [
    "t=('raju')\n",
    "type(t)"
   ]
  },
  {
   "cell_type": "code",
   "execution_count": 7,
   "id": "20493bc5",
   "metadata": {},
   "outputs": [
    {
     "data": {
      "text/plain": [
       "tuple"
      ]
     },
     "execution_count": 7,
     "metadata": {},
     "output_type": "execute_result"
    }
   ],
   "source": [
    "t=('raju',)\n",
    "type(t)"
   ]
  },
  {
   "cell_type": "code",
   "execution_count": 8,
   "id": "b4f3f138",
   "metadata": {},
   "outputs": [
    {
     "name": "stdout",
     "output_type": "stream",
     "text": [
      "raju\n"
     ]
    }
   ],
   "source": [
    "t = (1, 'raju', 28, 'abc')\n",
    "print(t[1])"
   ]
  },
  {
   "cell_type": "code",
   "execution_count": 9,
   "id": "508e15df",
   "metadata": {},
   "outputs": [
    {
     "name": "stdout",
     "output_type": "stream",
     "text": [
      "abc\n"
     ]
    }
   ],
   "source": [
    "print(t[-1])"
   ]
  },
  {
   "cell_type": "code",
   "execution_count": 10,
   "id": "cc068364",
   "metadata": {},
   "outputs": [
    {
     "name": "stdout",
     "output_type": "stream",
     "text": [
      "[1, 'raju', 'abc']\n"
     ]
    }
   ],
   "source": [
    "#nested tuple \n",
    "t= (1,(1,2,3),[1,'raju','abc'])\n",
    "print(t[2])\n"
   ]
  },
  {
   "cell_type": "code",
   "execution_count": 11,
   "id": "773c6bff",
   "metadata": {},
   "outputs": [
    {
     "name": "stdout",
     "output_type": "stream",
     "text": [
      "raju\n"
     ]
    }
   ],
   "source": [
    "print(t[2][1])"
   ]
  },
  {
   "cell_type": "code",
   "execution_count": 15,
   "id": "ad327bd7",
   "metadata": {},
   "outputs": [
    {
     "name": "stdout",
     "output_type": "stream",
     "text": [
      "(1, 2, 4, 5, 6, 7)\n"
     ]
    }
   ],
   "source": [
    "#concatinate tuples\n",
    "t1,t2=(1,2,4),(5,6,7)\n",
    "print(t1+t2)"
   ]
  },
  {
   "cell_type": "code",
   "execution_count": null,
   "id": "4dcdda6d",
   "metadata": {},
   "outputs": [],
   "source": [
    "#Delete tuple\n",
    "t= (1,(1,2,3),[1,'raju','abc'])\n",
    "del t\n"
   ]
  },
  {
   "cell_type": "code",
   "execution_count": 16,
   "id": "128d7500",
   "metadata": {},
   "outputs": [
    {
     "name": "stdout",
     "output_type": "stream",
     "text": [
      "True\n"
     ]
    }
   ],
   "source": [
    "t = (1,2,4,6,7,5,3,6)\n",
    "\n",
    "print(1 in t)"
   ]
  },
  {
   "cell_type": "code",
   "execution_count": 17,
   "id": "52357f4e",
   "metadata": {},
   "outputs": [
    {
     "name": "stdout",
     "output_type": "stream",
     "text": [
      "False\n"
     ]
    }
   ],
   "source": [
    "print(9 in t)"
   ]
  },
  {
   "cell_type": "code",
   "execution_count": 32,
   "id": "771462d2",
   "metadata": {},
   "outputs": [
    {
     "name": "stdout",
     "output_type": "stream",
     "text": [
      "7\n",
      "1\n",
      "34\n",
      "(1, 2, 4, 6, 7, 5, 3, 6, 10)\n"
     ]
    }
   ],
   "source": [
    "# We can sort tuple and get max element and min element, we can also get sum\n",
    "\n",
    "t = (1,2,4,6,7,5,3,6)\n",
    "print(max(t))\n",
    "print(min(t))\n",
    "print(sum(t))\n",
    "\n",
    "t =  t + (10,)\n",
    "print(t)"
   ]
  },
  {
   "cell_type": "markdown",
   "id": "60697e51",
   "metadata": {},
   "source": [
    "# SETS\n",
    "\n",
    "set is an unordered collection of items. Every element is UNIQUE (no duplicates)\n",
    "set used to perform mathematical stuff like union, intersection, etc.,,.\n",
    "set is mutable"
   ]
  },
  {
   "cell_type": "code",
   "execution_count": 19,
   "id": "d3541042",
   "metadata": {},
   "outputs": [
    {
     "name": "stdout",
     "output_type": "stream",
     "text": [
      "{1, 2, 3, 4}\n"
     ]
    }
   ],
   "source": [
    "s = {1,2,3,4,3}\n",
    "print(s)\n"
   ]
  },
  {
   "cell_type": "code",
   "execution_count": 22,
   "id": "a2e743a3",
   "metadata": {},
   "outputs": [
    {
     "name": "stdout",
     "output_type": "stream",
     "text": [
      "{1, 2, 3, 4, 5, 6, 7}\n"
     ]
    }
   ],
   "source": [
    "## fetching unique values from a list\n",
    "lst=[1,2,3,4,5,5,5,5,6,6,6,7,7,7]\n",
    "s=set(lst)\n",
    "print(s)"
   ]
  },
  {
   "cell_type": "code",
   "execution_count": 24,
   "id": "61c6f8a0",
   "metadata": {},
   "outputs": [
    {
     "ename": "TypeError",
     "evalue": "'set' object is not subscriptable",
     "output_type": "error",
     "traceback": [
      "\u001b[0;31m---------------------------------------------------------------------------\u001b[0m",
      "\u001b[0;31mTypeError\u001b[0m                                 Traceback (most recent call last)",
      "Input \u001b[0;32mIn [24]\u001b[0m, in \u001b[0;36m<cell line: 3>\u001b[0;34m()\u001b[0m\n\u001b[1;32m      1\u001b[0m \u001b[38;5;66;03m#Add element to a list\u001b[39;00m\n\u001b[1;32m      2\u001b[0m s \u001b[38;5;241m=\u001b[39m {\u001b[38;5;241m1\u001b[39m,\u001b[38;5;241m2\u001b[39m,\u001b[38;5;241m3\u001b[39m,\u001b[38;5;241m4\u001b[39m,\u001b[38;5;241m3\u001b[39m}\n\u001b[0;32m----> 3\u001b[0m \u001b[38;5;28mprint\u001b[39m(\u001b[43ms\u001b[49m\u001b[43m[\u001b[49m\u001b[38;5;241;43m2\u001b[39;49m\u001b[43m]\u001b[49m)\n",
      "\u001b[0;31mTypeError\u001b[0m: 'set' object is not subscriptable"
     ]
    }
   ],
   "source": [
    "#Add element to a set\n",
    "s = {1,2,3,4,3}\n",
    "print(s[2]) #set doesnt support indexing"
   ]
  },
  {
   "cell_type": "code",
   "execution_count": 27,
   "id": "68051574",
   "metadata": {},
   "outputs": [
    {
     "name": "stdout",
     "output_type": "stream",
     "text": [
      "{1, 2, 3, 4, 9}\n"
     ]
    }
   ],
   "source": [
    "# to add elements to a set\n",
    "s.add(9)\n",
    "print(s)"
   ]
  },
  {
   "cell_type": "code",
   "execution_count": 34,
   "id": "becd654d",
   "metadata": {},
   "outputs": [
    {
     "name": "stdout",
     "output_type": "stream",
     "text": [
      "{1, 2, 3, 4, 5, 6, 9}\n",
      "{1, 2, 3, 4, 5, 6, 7, 8, 9, 10, 12}\n"
     ]
    }
   ],
   "source": [
    "# to update multiple elements in a set\n",
    "\n",
    "s.update([5,6,6])\n",
    "print(s)\n",
    "\n",
    "s.update([7,8,8,8],{10,12})\n",
    "print(s)"
   ]
  },
  {
   "cell_type": "code",
   "execution_count": 35,
   "id": "dc1ed8d0",
   "metadata": {},
   "outputs": [
    {
     "name": "stdout",
     "output_type": "stream",
     "text": [
      "{1, 2, 3, 4, 5, 6, 7, 8, 9, 12}\n"
     ]
    }
   ],
   "source": [
    "# remove elements form a set\n",
    "s.discard(10)\n",
    "print(s)"
   ]
  },
  {
   "cell_type": "code",
   "execution_count": 36,
   "id": "82904bce",
   "metadata": {},
   "outputs": [
    {
     "name": "stdout",
     "output_type": "stream",
     "text": [
      "{1, 2, 3, 4, 5, 6, 7, 8, 9}\n"
     ]
    }
   ],
   "source": [
    "s.remove(12)\n",
    "print(s)"
   ]
  },
  {
   "cell_type": "code",
   "execution_count": 56,
   "id": "644aba69",
   "metadata": {},
   "outputs": [
    {
     "name": "stdout",
     "output_type": "stream",
     "text": [
      "{1, 2, 3, 4, 5, 6, 7, 8}\n",
      "{1, 2, 3, 4, 5, 6, 7, 8}\n"
     ]
    }
   ],
   "source": [
    "## PYTHON SET OPREATIONS\n",
    "\n",
    "set1 = {1,2,3,4,5}\n",
    "set2 = {5,6,7,8}\n",
    "\n",
    "print ( set1 | set2) #UNION to add two sets\n",
    "#x = set1 + set2 # + dosent work set\n",
    "#print(x)\n",
    "\n",
    "x = set1.union(set2)\n",
    "print(x)"
   ]
  },
  {
   "cell_type": "code",
   "execution_count": 43,
   "id": "0ce18405",
   "metadata": {},
   "outputs": [
    {
     "name": "stdout",
     "output_type": "stream",
     "text": [
      "set()\n"
     ]
    }
   ],
   "source": [
    "print( set1 & set2 )  #INTERSECTION of two sets\n",
    "# here both set1 and set2 doesnt have unique elements"
   ]
  },
  {
   "cell_type": "code",
   "execution_count": 46,
   "id": "60d119b7",
   "metadata": {},
   "outputs": [
    {
     "name": "stdout",
     "output_type": "stream",
     "text": [
      "set()\n"
     ]
    }
   ],
   "source": [
    "y = (set1.intersection(set2))\n",
    "print(y)"
   ]
  },
  {
   "cell_type": "code",
   "execution_count": 47,
   "id": "c8f4ccc2",
   "metadata": {},
   "outputs": [
    {
     "name": "stdout",
     "output_type": "stream",
     "text": [
      "{1, 2, 3, 4}\n"
     ]
    }
   ],
   "source": [
    "# PRINT elements only in set1 not in set2\n",
    "\n",
    "print(set1 - set2)  # DIFFERENCE"
   ]
  },
  {
   "cell_type": "code",
   "execution_count": 48,
   "id": "23f5f8f6",
   "metadata": {},
   "outputs": [
    {
     "name": "stdout",
     "output_type": "stream",
     "text": [
      "{8, 5, 6, 7}\n"
     ]
    }
   ],
   "source": [
    "print(set2 - set1)"
   ]
  },
  {
   "cell_type": "code",
   "execution_count": 49,
   "id": "c58e1414",
   "metadata": {},
   "outputs": [
    {
     "name": "stdout",
     "output_type": "stream",
     "text": [
      "{1, 2, 3, 4}\n"
     ]
    }
   ],
   "source": [
    "print(set1.difference(set2))"
   ]
  },
  {
   "cell_type": "code",
   "execution_count": 57,
   "id": "1b4307e4",
   "metadata": {},
   "outputs": [
    {
     "name": "stdout",
     "output_type": "stream",
     "text": [
      "{1, 2, 3, 4, 6, 7, 8}\n"
     ]
    }
   ],
   "source": [
    "# SYMMETRIC DIFFERENCE\n",
    "\n",
    "print(set1 ^ set2)"
   ]
  },
  {
   "cell_type": "code",
   "execution_count": 50,
   "id": "56f8dd57",
   "metadata": {},
   "outputs": [
    {
     "name": "stdout",
     "output_type": "stream",
     "text": [
      "set y is an subset of set x True\n"
     ]
    }
   ],
   "source": [
    "# FINDING SUBSETS ....\n",
    "\n",
    "x = {\"a\",\"b\",\"c\",\"d\"}\n",
    "y={\"b\",\"c\",\"d\"}\n",
    "print(\"set y is an subset of set x\",y.issubset(x))"
   ]
  },
  {
   "cell_type": "code",
   "execution_count": null,
   "id": "57c9f3aa",
   "metadata": {},
   "outputs": [],
   "source": [
    "# FROZEN SETS\n",
    "\n",
    "#These frozen sets act as immutable sets.\n",
    "# these can be created using function frozenset()\n"
   ]
  },
  {
   "cell_type": "markdown",
   "id": "cf1bb65f",
   "metadata": {},
   "source": []
  },
  {
   "cell_type": "code",
   "execution_count": 51,
   "id": "1d9d04c1",
   "metadata": {},
   "outputs": [
    {
     "name": "stdout",
     "output_type": "stream",
     "text": [
      "frozenset({1, 2, 3, 4, 5, 6})\n"
     ]
    }
   ],
   "source": [
    "set1 = frozenset([1,2,3,4,5,5,6,6])\n",
    "print(set1)\n"
   ]
  },
  {
   "cell_type": "code",
   "execution_count": 52,
   "id": "97f5d166",
   "metadata": {},
   "outputs": [
    {
     "ename": "AttributeError",
     "evalue": "'frozenset' object has no attribute 'add'",
     "output_type": "error",
     "traceback": [
      "\u001b[0;31m---------------------------------------------------------------------------\u001b[0m",
      "\u001b[0;31mAttributeError\u001b[0m                            Traceback (most recent call last)",
      "Input \u001b[0;32mIn [52]\u001b[0m, in \u001b[0;36m<cell line: 1>\u001b[0;34m()\u001b[0m\n\u001b[0;32m----> 1\u001b[0m \u001b[43mset1\u001b[49m\u001b[38;5;241;43m.\u001b[39;49m\u001b[43madd\u001b[49m(\u001b[38;5;241m7\u001b[39m)\n",
      "\u001b[0;31mAttributeError\u001b[0m: 'frozenset' object has no attribute 'add'"
     ]
    }
   ],
   "source": [
    "set1.add(7)"
   ]
  },
  {
   "cell_type": "code",
   "execution_count": null,
   "id": "5707ccf9",
   "metadata": {},
   "outputs": [],
   "source": [
    "# FROZEN set also supports intersection, union and symmetric difference. \n"
   ]
  },
  {
   "cell_type": "markdown",
   "id": "e795f51e",
   "metadata": {},
   "source": [
    "# DICTIONARY\n"
   ]
  }
 ],
 "metadata": {
  "kernelspec": {
   "display_name": "Python 3 (ipykernel)",
   "language": "python",
   "name": "python3"
  },
  "language_info": {
   "codemirror_mode": {
    "name": "ipython",
    "version": 3
   },
   "file_extension": ".py",
   "mimetype": "text/x-python",
   "name": "python",
   "nbconvert_exporter": "python",
   "pygments_lexer": "ipython3",
   "version": "3.9.13"
  }
 },
 "nbformat": 4,
 "nbformat_minor": 5
}
