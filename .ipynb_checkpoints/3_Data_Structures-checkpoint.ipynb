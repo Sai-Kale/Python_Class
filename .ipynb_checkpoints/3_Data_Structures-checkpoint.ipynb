{
 "cells": [
  {
   "cell_type": "markdown",
   "id": "6709338d",
   "metadata": {},
   "source": [
    "# DATA STRUCTURES\n",
    "\n",
    "A data structure is collection of data elements (num, chars) that is structured in a way. for example numbering a elements.\n",
    "The most basic data structure is \"sequence\"\n",
    "\n",
    "-> List is a sequence\n",
    "-> list is a collection of items\n",
    "-> List is mutable and tuples are unmutable"
   ]
  },
  {
   "cell_type": "code",
   "execution_count": 1,
   "id": "c95ee4f4",
   "metadata": {},
   "outputs": [
    {
     "name": "stdout",
     "output_type": "stream",
     "text": [
      "[1, 'one', 'apple', 1.5]\n"
     ]
    }
   ],
   "source": [
    "#LIST CREATION\n",
    "\n",
    "emptyList = []\n",
    "lst = ['one','two']\n",
    "lst2 =  [1,2,3,4]\n",
    "lst3 = [[1,2],[1,4]]\n",
    "lst4 = [1,'one','apple',1.5]\n",
    "print(lst4)"
   ]
  },
  {
   "cell_type": "code",
   "execution_count": 2,
   "id": "24c19cd1",
   "metadata": {},
   "outputs": [
    {
     "name": "stdout",
     "output_type": "stream",
     "text": [
      "['one', 'two', 'three', 'four']\n"
     ]
    }
   ],
   "source": [
    "# LIST APPEND\n",
    "lst = ['one','two','three']\n",
    "\n",
    "lst.append('four')\n",
    "print(lst)"
   ]
  },
  {
   "cell_type": "code",
   "execution_count": 3,
   "id": "917c7072",
   "metadata": {},
   "outputs": [
    {
     "name": "stdout",
     "output_type": "stream",
     "text": [
      "['one', 'two', 'four', 'three']\n"
     ]
    }
   ],
   "source": [
    "# LIST INSERT\n",
    "lst = ['one','two','three']\n",
    "\n",
    "lst.insert(2, \"four\") # will insert element \"four\" at index 2\n",
    "\n",
    "print(lst)\n"
   ]
  },
  {
   "cell_type": "code",
   "execution_count": 4,
   "id": "0fbb90ed",
   "metadata": {},
   "outputs": [
    {
     "name": "stdout",
     "output_type": "stream",
     "text": [
      "['one', 'three', 'apple', 'bird']\n"
     ]
    }
   ],
   "source": [
    "# LIST REMOVE\n",
    "\n",
    "lst = ['one','apple','three','apple','bird']\n",
    "lst.remove('apple') #it will only remove the first occurence of apple\n",
    "\n",
    "print(lst)"
   ]
  },
  {
   "cell_type": "code",
   "execution_count": 5,
   "id": "cb8121b8",
   "metadata": {},
   "outputs": [
    {
     "name": "stdout",
     "output_type": "stream",
     "text": [
      "['one', 'apple', 'three', 'apple', 'bird', 'four', 'five', 'six']\n"
     ]
    }
   ],
   "source": [
    "# LIST APPEND & EXTEND\n",
    "\n",
    "lst = ['one','apple','three','apple','bird']\n",
    "lst1 = ['four','five','six']\n",
    "\n",
    "lst.extend(lst1)\n",
    "\n",
    "print(lst)\n"
   ]
  },
  {
   "cell_type": "code",
   "execution_count": 9,
   "id": "b6d74fee",
   "metadata": {},
   "outputs": [
    {
     "name": "stdout",
     "output_type": "stream",
     "text": [
      "['one', 'three', 'apple', 'bird']\n",
      "['one', 'three', 'bird']\n",
      "['one', 'three']\n"
     ]
    }
   ],
   "source": [
    "# LIST DELETE\n",
    "\n",
    "lst = ['one','apple','three','apple','bird']\n",
    "\n",
    "del lst[1]\n",
    "\n",
    "print(lst)\n",
    " \n",
    "# OR\n",
    "\n",
    "lst.pop(2)\n",
    "\n",
    "print(lst)\n",
    "\n",
    "# OR\n",
    "\n",
    "lst.remove('bird')\n",
    "print(lst)"
   ]
  },
  {
   "cell_type": "code",
   "execution_count": 10,
   "id": "18217c7a",
   "metadata": {},
   "outputs": [
    {
     "name": "stdout",
     "output_type": "stream",
     "text": [
      "yay\n",
      "bird in the list\n"
     ]
    }
   ],
   "source": [
    "# LIST RELATED KEYWORDS IN PYTHON\n",
    "\n",
    "    # 'in' is used to test if an item is in the list\n",
    "    \n",
    "lst = ['one','apple','three','apple','bird']\n",
    "\n",
    "if 'apple' in lst:\n",
    "    print(\"yay\")\n",
    "    \n",
    "if 'bird' not in lst:\n",
    "    print(\"brid is not there\")\n",
    "else:\n",
    "    print(\"bird in the list\")"
   ]
  },
  {
   "cell_type": "code",
   "execution_count": 11,
   "id": "f307fedf",
   "metadata": {},
   "outputs": [
    {
     "name": "stdout",
     "output_type": "stream",
     "text": [
      "['bird', 'apple', 'three', 'apple', 'one']\n"
     ]
    }
   ],
   "source": [
    "# LIST REVERSE\n",
    "\n",
    "lst = ['one','apple','three','apple','bird']\n",
    "\n",
    "lst.reverse()\n",
    "print(lst)"
   ]
  },
  {
   "cell_type": "markdown",
   "id": "c021d515",
   "metadata": {},
   "source": [
    "# List Sorting\n",
    "\n",
    "The easiest way to sort a list is sorted(list) function\n",
    "then take a list and returns the elements in the sorted order,\n",
    "the original list is not changed.\n",
    "the sorted() optional argument reverse=True, ex: sorted(list,reverse=True), make it sort backwards.\n"
   ]
  },
  {
   "cell_type": "code",
   "execution_count": 12,
   "id": "32e3a55b",
   "metadata": {},
   "outputs": [
    {
     "name": "stdout",
     "output_type": "stream",
     "text": [
      "['apple', 'apple', 'bird', 'one', 'three']\n"
     ]
    }
   ],
   "source": [
    "lst = ['one','apple','three','apple','bird']\n",
    "\n",
    "sorted_lst=sorted(lst)\n",
    "print(sorted_lst)"
   ]
  },
  {
   "cell_type": "code",
   "execution_count": 13,
   "id": "2b6698ac",
   "metadata": {},
   "outputs": [
    {
     "name": "stdout",
     "output_type": "stream",
     "text": [
      "['three', 'one', 'bird', 'apple', 'apple']\n"
     ]
    }
   ],
   "source": [
    "# Print the sorted list in reverse order\n",
    "\n",
    "reverse_sorted_lst=sorted(lst,reverse=True)\n",
    "\n",
    "print(reverse_sorted_lst)"
   ]
  },
  {
   "cell_type": "code",
   "execution_count": 18,
   "id": "8f7bfb5b",
   "metadata": {},
   "outputs": [
    {
     "name": "stdout",
     "output_type": "stream",
     "text": [
      "['apple', 'apple', 'bird', 'one', 'three']\n"
     ]
    }
   ],
   "source": [
    "#directly print the stuff\n",
    "lst = ['one','apple','three','apple','bird']\n",
    "lst.sort()\n",
    "\n",
    "print (lst)"
   ]
  },
  {
   "cell_type": "code",
   "execution_count": 19,
   "id": "eaa40c8f",
   "metadata": {},
   "outputs": [
    {
     "ename": "TypeError",
     "evalue": "'<' not supported between instances of 'int' and 'str'",
     "output_type": "error",
     "traceback": [
      "\u001b[0;31m---------------------------------------------------------------------------\u001b[0m",
      "\u001b[0;31mTypeError\u001b[0m                                 Traceback (most recent call last)",
      "Input \u001b[0;32mIn [19]\u001b[0m, in \u001b[0;36m<cell line: 4>\u001b[0;34m()\u001b[0m\n\u001b[1;32m      1\u001b[0m \u001b[38;5;66;03m# Exception is you cant sort various data types.\u001b[39;00m\n\u001b[1;32m      3\u001b[0m lst \u001b[38;5;241m=\u001b[39m [\u001b[38;5;124m'\u001b[39m\u001b[38;5;124mone\u001b[39m\u001b[38;5;124m'\u001b[39m,\u001b[38;5;124m'\u001b[39m\u001b[38;5;124mapple\u001b[39m\u001b[38;5;124m'\u001b[39m,\u001b[38;5;241m2\u001b[39m,\u001b[38;5;241m1\u001b[39m,\u001b[38;5;124m'\u001b[39m\u001b[38;5;124mbird\u001b[39m\u001b[38;5;124m'\u001b[39m]\n\u001b[0;32m----> 4\u001b[0m \u001b[43mlst\u001b[49m\u001b[38;5;241;43m.\u001b[39;49m\u001b[43msort\u001b[49m\u001b[43m(\u001b[49m\u001b[43m)\u001b[49m\n\u001b[1;32m      6\u001b[0m \u001b[38;5;28mprint\u001b[39m (lst)\n",
      "\u001b[0;31mTypeError\u001b[0m: '<' not supported between instances of 'int' and 'str'"
     ]
    }
   ],
   "source": [
    "# Exception is you cant sort various data types.\n",
    "\n",
    "lst = ['one','apple',2,1,'bird']\n",
    "lst.sort()\n",
    "\n",
    "print (lst)"
   ]
  },
  {
   "cell_type": "code",
   "execution_count": 20,
   "id": "ea3a4cd7",
   "metadata": {},
   "outputs": [
    {
     "name": "stdout",
     "output_type": "stream",
     "text": [
      "original list [1, 2, 4, 5, 6, '9']\n"
     ]
    }
   ],
   "source": [
    "# List having Multiple references\n",
    "\n",
    "lst=[1,2,4,5,6]\n",
    "abc = lst.append('9')\n",
    "\n",
    "print(\"original list\",lst)"
   ]
  },
  {
   "cell_type": "code",
   "execution_count": 23,
   "id": "65da3b22",
   "metadata": {},
   "outputs": [
    {
     "name": "stdout",
     "output_type": "stream",
     "text": [
      "['one', 'two', 'three', 'four']\n"
     ]
    }
   ],
   "source": [
    "# String Split to create a List\n",
    "\n",
    "s = \"one,two,three,four\"\n",
    "slst = s.split(',')\n",
    "print(slst)"
   ]
  },
  {
   "cell_type": "code",
   "execution_count": 2,
   "id": "19ec3c6e",
   "metadata": {},
   "outputs": [
    {
     "name": "stdout",
     "output_type": "stream",
     "text": [
      "2\n",
      "6\n"
     ]
    }
   ],
   "source": [
    "# LIST Indexing\n",
    "\n",
    "# Each Item in the list has an asinged index valuestartng from 0\n",
    "#Accessing elements via this index number is called indexing\n",
    "\n",
    "lst = [1,2,3,4,5,6]\n",
    "print(lst[1])\n",
    "\n",
    "#print last element using negative index\n",
    "\n",
    "print(lst[-1])"
   ]
  },
  {
   "cell_type": "code",
   "execution_count": 3,
   "id": "066c38fa",
   "metadata": {},
   "outputs": [
    {
     "name": "stdout",
     "output_type": "stream",
     "text": [
      "[1, 2, 4, 5, 6, 78, 89, 75, 3, 5, 7]\n",
      "[1, 2, 4, 5]\n",
      "[1, 4, 6, 89, 3, 7]\n",
      "[7, 5, 3, 75, 89, 78, 6, 5, 4, 2, 1]\n"
     ]
    }
   ],
   "source": [
    "# List Slicling\n",
    "\n",
    "# Accessing parts of segment in a list is called slicing.\n",
    "# the key point end point represents the first value in the selected slice\n",
    "# [starting_index:end_index:jump_value]\n",
    "\n",
    "lst = [1,2,4,5,6,78,89,75,3,5,7]\n",
    "\n",
    "# Print all numbers\n",
    "print(lst[:])\n",
    "\n",
    "#print from index 0 to 5\n",
    "print(lst[0:4])\n",
    "\n",
    "#Print every alternate number\n",
    "print(lst[::2])\n",
    "\n",
    "#Reverse a list\n",
    "print(lst[::-1])\n"
   ]
  },
  {
   "cell_type": "code",
   "execution_count": 4,
   "id": "a57c4814",
   "metadata": {},
   "outputs": [
    {
     "name": "stdout",
     "output_type": "stream",
     "text": [
      "[1, 2, 4, 5, 6, 78, 89, 75, 3, 5, 7, 'apple', 'ball', 'cat']\n"
     ]
    }
   ],
   "source": [
    "# List extend using \"+\"\n",
    "lst = [1,2,4,5,6,78,89,75,3,5,7]\n",
    "\n",
    "lst22 = [\"apple\",\"ball\",\"cat\"]\n",
    "\n",
    "new_lst = lst + lst22\n",
    "\n",
    "print(new_lst)\n"
   ]
  },
  {
   "cell_type": "code",
   "execution_count": 5,
   "id": "5f9e43da",
   "metadata": {},
   "outputs": [
    {
     "name": "stdout",
     "output_type": "stream",
     "text": [
      "1\n",
      "1\n"
     ]
    }
   ],
   "source": [
    "# Count function in List\n",
    "lst = [1,2,4,5,6,78,89,75,3,5,7]\n",
    "print(lst.count(1))\n",
    "print(lst.count(89))"
   ]
  },
  {
   "cell_type": "code",
   "execution_count": 6,
   "id": "76a5935d",
   "metadata": {},
   "outputs": [
    {
     "name": "stdout",
     "output_type": "stream",
     "text": [
      "1\n",
      "2\n",
      "4\n",
      "5\n",
      "6\n",
      "78\n",
      "89\n",
      "75\n",
      "3\n",
      "5\n",
      "7\n"
     ]
    }
   ],
   "source": [
    "# Looping in the list\n",
    "lst = [1,2,4,5,6,78,89,75,3,5,7]\n",
    "for element in lst:\n",
    "    print(element)\n"
   ]
  },
  {
   "cell_type": "markdown",
   "id": "ae196d6b",
   "metadata": {},
   "source": [
    "# List Comprehensions\n",
    "\n",
    "Its provides a concise way to create lists\n",
    "Common applications include to make new lists where each element is the result of some operations "
   ]
  },
  {
   "cell_type": "code",
   "execution_count": 7,
   "id": "997229da",
   "metadata": {},
   "outputs": [
    {
     "name": "stdout",
     "output_type": "stream",
     "text": [
      "[0, 1, 4, 9, 16]\n"
     ]
    }
   ],
   "source": [
    "#WITHOUT LIST COMPREHENSION\n",
    "squares = []\n",
    "for i in range(5):\n",
    "    squares.append(i**2)\n",
    "print(squares)"
   ]
  },
  {
   "cell_type": "code",
   "execution_count": 8,
   "id": "52f9deef",
   "metadata": {},
   "outputs": [
    {
     "name": "stdout",
     "output_type": "stream",
     "text": [
      "[0, 1, 4, 9, 16]\n"
     ]
    }
   ],
   "source": [
    "# List Comprehension\n",
    "squares = [i**2 for i in range(5)]\n",
    "print(squares)"
   ]
  },
  {
   "cell_type": "code",
   "execution_count": 18,
   "id": "c8b972ac",
   "metadata": {},
   "outputs": [
    {
     "name": "stdout",
     "output_type": "stream",
     "text": [
      "[1, 4, 16, 36, 64, 361, 16, 25, 36, 49]\n",
      "[1, 4, 16, 25, 36, 49]\n",
      "[(0, 0), (1, 1), (2, 4), (3, 9), (4, 16), (5, 25), (6, 36), (7, 49), (8, 64), (9, 81)]\n"
     ]
    }
   ],
   "source": [
    "#EXAMPLES\n",
    "\n",
    "lst = [1,2,-4,-6,-8,-19,4,5,6,7]\n",
    "new_lst=[i**2 for i in lst]\n",
    "print(new_lst)\n",
    "\n",
    "\n",
    "# Square all the elements only that are positive\n",
    "positive_lst=[i**2 for i in lst if i >= 0]\n",
    "print(positive_lst)\n",
    "\n",
    "# Create a tuple from list\n",
    "tup = [(i,i**2) for i in range(10)]\n",
    "print(tup)"
   ]
  },
  {
   "cell_type": "code",
   "execution_count": 20,
   "id": "b8e54d71",
   "metadata": {},
   "outputs": [
    {
     "name": "stdout",
     "output_type": "stream",
     "text": [
      "[[1, 5, 9], [2, 6, 10], [3, 7, 11], [4, 8, 12]]\n"
     ]
    }
   ],
   "source": [
    "# NESTED LIST COMPREHENSIONS\n",
    "\n",
    "# Lets take a matrix\n",
    "matrix = [\n",
    "    [1,2,3,4],\n",
    "    [5,6,7,8],\n",
    "    [9,10,11,12]\n",
    "]\n",
    "\n",
    "# Transpose of a matrix without list comprehension (inverse matrix)\n",
    "transposed = []\n",
    "for i in range(4):\n",
    "    lst = []\n",
    "    for row in matrix:\n",
    "        lst.append(row[i])\n",
    "    transposed.append(lst)\n",
    "    \n",
    "print(transposed)"
   ]
  },
  {
   "cell_type": "code",
   "execution_count": 2,
   "id": "6d291d38",
   "metadata": {},
   "outputs": [
    {
     "name": "stdout",
     "output_type": "stream",
     "text": [
      "[[1, 5, 9], [2, 6, 10], [3, 7, 11], [4, 8, 12]]\n"
     ]
    }
   ],
   "source": [
    "#With List comphrehension\n",
    "matrix = [\n",
    "    [1,2,3,4],\n",
    "    [5,6,7,8],\n",
    "    [9,10,11,12]\n",
    "]\n",
    "transposed = [[row[i] for row in matrix] for i in range(4)]\n",
    "print(transposed)"
   ]
  },
  {
   "cell_type": "markdown",
   "id": "334946d1",
   "metadata": {},
   "source": [
    "# TUPLES\n",
    "\n",
    "    A tuple is similar to an list but its immutable."
   ]
  },
  {
   "cell_type": "code",
   "execution_count": 5,
   "id": "6b4830bd",
   "metadata": {},
   "outputs": [
    {
     "name": "stdout",
     "output_type": "stream",
     "text": [
      "(1, 'raju', 28, 'abc')\n",
      "(1, (1, 2, 3), [1, 'raju', 'abc'])\n"
     ]
    }
   ],
   "source": [
    "#empty tuple\n",
    "t = ()\n",
    "\n",
    "# tuple with mixed data types\n",
    "t = (1, 'raju', 28, 'abc')\n",
    "print(t)\n",
    "\n",
    "#nested tuples\n",
    "t= (1,(1,2,3),[1,'raju','abc'])\n",
    "print(t)"
   ]
  },
  {
   "cell_type": "code",
   "execution_count": 6,
   "id": "22ec978b",
   "metadata": {},
   "outputs": [
    {
     "data": {
      "text/plain": [
       "str"
      ]
     },
     "execution_count": 6,
     "metadata": {},
     "output_type": "execute_result"
    }
   ],
   "source": [
    "t=('raju')\n",
    "type(t)"
   ]
  },
  {
   "cell_type": "code",
   "execution_count": 7,
   "id": "e166f30e",
   "metadata": {},
   "outputs": [
    {
     "data": {
      "text/plain": [
       "tuple"
      ]
     },
     "execution_count": 7,
     "metadata": {},
     "output_type": "execute_result"
    }
   ],
   "source": [
    "t=('raju',)\n",
    "type(t)"
   ]
  },
  {
   "cell_type": "code",
   "execution_count": 8,
   "id": "188d58b6",
   "metadata": {},
   "outputs": [
    {
     "name": "stdout",
     "output_type": "stream",
     "text": [
      "raju\n"
     ]
    }
   ],
   "source": [
    "t = (1, 'raju', 28, 'abc')\n",
    "print(t[1])"
   ]
  },
  {
   "cell_type": "code",
   "execution_count": 9,
   "id": "a3665830",
   "metadata": {},
   "outputs": [
    {
     "name": "stdout",
     "output_type": "stream",
     "text": [
      "abc\n"
     ]
    }
   ],
   "source": [
    "print(t[-1])"
   ]
  },
  {
   "cell_type": "code",
   "execution_count": 10,
   "id": "d311d585",
   "metadata": {},
   "outputs": [
    {
     "name": "stdout",
     "output_type": "stream",
     "text": [
      "[1, 'raju', 'abc']\n"
     ]
    }
   ],
   "source": [
    "#nested tuple \n",
    "t= (1,(1,2,3),[1,'raju','abc'])\n",
    "print(t[2])\n"
   ]
  },
  {
   "cell_type": "code",
   "execution_count": 11,
   "id": "dc7a5263",
   "metadata": {},
   "outputs": [
    {
     "name": "stdout",
     "output_type": "stream",
     "text": [
      "raju\n"
     ]
    }
   ],
   "source": [
    "print(t[2][1])"
   ]
  },
  {
   "cell_type": "code",
   "execution_count": 15,
   "id": "7df0ee69",
   "metadata": {},
   "outputs": [
    {
     "name": "stdout",
     "output_type": "stream",
     "text": [
      "(1, 2, 4, 5, 6, 7)\n"
     ]
    }
   ],
   "source": [
    "#concatinate tuples\n",
    "t1,t2=(1,2,4),(5,6,7)\n",
    "print(t1+t2)"
   ]
  },
  {
   "cell_type": "code",
   "execution_count": null,
   "id": "f2158b98",
   "metadata": {},
   "outputs": [],
   "source": [
    "#Delete tuple\n",
    "t= (1,(1,2,3),[1,'raju','abc'])\n",
    "del t\n"
   ]
  },
  {
   "cell_type": "code",
   "execution_count": 16,
   "id": "2bb1c9c2",
   "metadata": {},
   "outputs": [
    {
     "name": "stdout",
     "output_type": "stream",
     "text": [
      "True\n"
     ]
    }
   ],
   "source": [
    "t = (1,2,4,6,7,5,3,6)\n",
    "\n",
    "print(1 in t)"
   ]
  },
  {
   "cell_type": "code",
   "execution_count": 17,
   "id": "9792a4dd",
   "metadata": {},
   "outputs": [
    {
     "name": "stdout",
     "output_type": "stream",
     "text": [
      "False\n"
     ]
    }
   ],
   "source": [
    "print(9 in t)"
   ]
  },
  {
   "cell_type": "code",
   "execution_count": 32,
   "id": "275dc8e3",
   "metadata": {},
   "outputs": [
    {
     "name": "stdout",
     "output_type": "stream",
     "text": [
      "7\n",
      "1\n",
      "34\n",
      "(1, 2, 4, 6, 7, 5, 3, 6, 10)\n"
     ]
    }
   ],
   "source": [
    "# We can sort tuple and get max element and min element, we can also get sum\n",
    "\n",
    "t = (1,2,4,6,7,5,3,6)\n",
    "print(max(t))\n",
    "print(min(t))\n",
    "print(sum(t))\n",
    "\n",
    "t =  t + (10,)\n",
    "print(t)"
   ]
  },
  {
   "cell_type": "markdown",
   "id": "ac8f881d",
   "metadata": {},
   "source": [
    "# SETS\n",
    "\n",
    "set is an unordered collection of items. Every element is UNIQUE (no duplicates)\n",
    "set used to perform mathematical stuff like union, intersection, etc.,,.\n",
    "set is mutable"
   ]
  },
  {
   "cell_type": "code",
   "execution_count": 19,
   "id": "357b408a",
   "metadata": {},
   "outputs": [
    {
     "name": "stdout",
     "output_type": "stream",
     "text": [
      "{1, 2, 3, 4}\n"
     ]
    }
   ],
   "source": [
    "s = {1,2,3,4,3}\n",
    "print(s)\n"
   ]
  },
  {
   "cell_type": "code",
   "execution_count": 22,
   "id": "cf7a4b9a",
   "metadata": {},
   "outputs": [
    {
     "name": "stdout",
     "output_type": "stream",
     "text": [
      "{1, 2, 3, 4, 5, 6, 7}\n"
     ]
    }
   ],
   "source": [
    "## fetching unique values from a list\n",
    "lst=[1,2,3,4,5,5,5,5,6,6,6,7,7,7]\n",
    "s=set(lst)\n",
    "print(s)"
   ]
  },
  {
   "cell_type": "code",
   "execution_count": 24,
   "id": "73111613",
   "metadata": {},
   "outputs": [
    {
     "ename": "TypeError",
     "evalue": "'set' object is not subscriptable",
     "output_type": "error",
     "traceback": [
      "\u001b[0;31m---------------------------------------------------------------------------\u001b[0m",
      "\u001b[0;31mTypeError\u001b[0m                                 Traceback (most recent call last)",
      "Input \u001b[0;32mIn [24]\u001b[0m, in \u001b[0;36m<cell line: 3>\u001b[0;34m()\u001b[0m\n\u001b[1;32m      1\u001b[0m \u001b[38;5;66;03m#Add element to a list\u001b[39;00m\n\u001b[1;32m      2\u001b[0m s \u001b[38;5;241m=\u001b[39m {\u001b[38;5;241m1\u001b[39m,\u001b[38;5;241m2\u001b[39m,\u001b[38;5;241m3\u001b[39m,\u001b[38;5;241m4\u001b[39m,\u001b[38;5;241m3\u001b[39m}\n\u001b[0;32m----> 3\u001b[0m \u001b[38;5;28mprint\u001b[39m(\u001b[43ms\u001b[49m\u001b[43m[\u001b[49m\u001b[38;5;241;43m2\u001b[39;49m\u001b[43m]\u001b[49m)\n",
      "\u001b[0;31mTypeError\u001b[0m: 'set' object is not subscriptable"
     ]
    }
   ],
   "source": [
    "#Add element to a set\n",
    "s = {1,2,3,4,3}\n",
    "print(s[2]) #set doesnt support indexing"
   ]
  },
  {
   "cell_type": "code",
   "execution_count": 27,
   "id": "9ea81c1c",
   "metadata": {},
   "outputs": [
    {
     "name": "stdout",
     "output_type": "stream",
     "text": [
      "{1, 2, 3, 4, 9}\n"
     ]
    }
   ],
   "source": [
    "# to add elements to a set\n",
    "s.add(9)\n",
    "print(s)"
   ]
  },
  {
   "cell_type": "code",
   "execution_count": 34,
   "id": "b9760001",
   "metadata": {},
   "outputs": [
    {
     "name": "stdout",
     "output_type": "stream",
     "text": [
      "{1, 2, 3, 4, 5, 6, 9}\n",
      "{1, 2, 3, 4, 5, 6, 7, 8, 9, 10, 12}\n"
     ]
    }
   ],
   "source": [
    "# to update multiple elements in a set\n",
    "\n",
    "s.update([5,6,6])\n",
    "print(s)\n",
    "\n",
    "s.update([7,8,8,8],{10,12})\n",
    "print(s)"
   ]
  },
  {
   "cell_type": "code",
   "execution_count": 35,
   "id": "b4f120a9",
   "metadata": {},
   "outputs": [
    {
     "name": "stdout",
     "output_type": "stream",
     "text": [
      "{1, 2, 3, 4, 5, 6, 7, 8, 9, 12}\n"
     ]
    }
   ],
   "source": [
    "# remove elements form a set\n",
    "s.discard(10)\n",
    "print(s)"
   ]
  },
  {
   "cell_type": "code",
   "execution_count": 36,
   "id": "e4228e99",
   "metadata": {},
   "outputs": [
    {
     "name": "stdout",
     "output_type": "stream",
     "text": [
      "{1, 2, 3, 4, 5, 6, 7, 8, 9}\n"
     ]
    }
   ],
   "source": [
    "s.remove(12)\n",
    "print(s)"
   ]
  },
  {
   "cell_type": "code",
   "execution_count": 56,
   "id": "f7647e4f",
   "metadata": {},
   "outputs": [
    {
     "name": "stdout",
     "output_type": "stream",
     "text": [
      "{1, 2, 3, 4, 5, 6, 7, 8}\n",
      "{1, 2, 3, 4, 5, 6, 7, 8}\n"
     ]
    }
   ],
   "source": [
    "## PYTHON SET OPREATIONS\n",
    "\n",
    "set1 = {1,2,3,4,5}\n",
    "set2 = {5,6,7,8}\n",
    "\n",
    "print ( set1 | set2) #UNION to add two sets\n",
    "#x = set1 + set2 # + dosent work set\n",
    "#print(x)\n",
    "\n",
    "x = set1.union(set2)\n",
    "print(x)"
   ]
  },
  {
   "cell_type": "code",
   "execution_count": 43,
   "id": "443c31cb",
   "metadata": {},
   "outputs": [
    {
     "name": "stdout",
     "output_type": "stream",
     "text": [
      "set()\n"
     ]
    }
   ],
   "source": [
    "print( set1 & set2 )  #INTERSECTION of two sets\n",
    "# here both set1 and set2 doesnt have unique elements"
   ]
  },
  {
   "cell_type": "code",
   "execution_count": 46,
   "id": "72cbf8d9",
   "metadata": {},
   "outputs": [
    {
     "name": "stdout",
     "output_type": "stream",
     "text": [
      "set()\n"
     ]
    }
   ],
   "source": [
    "y = (set1.intersection(set2))\n",
    "print(y)"
   ]
  },
  {
   "cell_type": "code",
   "execution_count": 47,
   "id": "a68823bd",
   "metadata": {},
   "outputs": [
    {
     "name": "stdout",
     "output_type": "stream",
     "text": [
      "{1, 2, 3, 4}\n"
     ]
    }
   ],
   "source": [
    "# PRINT elements only in set1 not in set2\n",
    "\n",
    "print(set1 - set2)  # DIFFERENCE"
   ]
  },
  {
   "cell_type": "code",
   "execution_count": 48,
   "id": "76f23e1b",
   "metadata": {},
   "outputs": [
    {
     "name": "stdout",
     "output_type": "stream",
     "text": [
      "{8, 5, 6, 7}\n"
     ]
    }
   ],
   "source": [
    "print(set2 - set1)"
   ]
  },
  {
   "cell_type": "code",
   "execution_count": 49,
   "id": "b1268272",
   "metadata": {},
   "outputs": [
    {
     "name": "stdout",
     "output_type": "stream",
     "text": [
      "{1, 2, 3, 4}\n"
     ]
    }
   ],
   "source": [
    "print(set1.difference(set2))"
   ]
  },
  {
   "cell_type": "code",
   "execution_count": 57,
   "id": "eaebb984",
   "metadata": {},
   "outputs": [
    {
     "name": "stdout",
     "output_type": "stream",
     "text": [
      "{1, 2, 3, 4, 6, 7, 8}\n"
     ]
    }
   ],
   "source": [
    "# SYMMETRIC DIFFERENCE\n",
    "\n",
    "print(set1 ^ set2)"
   ]
  },
  {
   "cell_type": "code",
   "execution_count": 50,
   "id": "831fd1b1",
   "metadata": {},
   "outputs": [
    {
     "name": "stdout",
     "output_type": "stream",
     "text": [
      "set y is an subset of set x True\n"
     ]
    }
   ],
   "source": [
    "# FINDING SUBSETS ....\n",
    "\n",
    "x = {\"a\",\"b\",\"c\",\"d\"}\n",
    "y={\"b\",\"c\",\"d\"}\n",
    "print(\"set y is an subset of set x\",y.issubset(x))"
   ]
  },
  {
   "cell_type": "code",
   "execution_count": null,
   "id": "db0b1a61",
   "metadata": {},
   "outputs": [],
   "source": [
    "# FROZEN SETS\n",
    "\n",
    "#These frozen sets act as immutable sets.\n",
    "# these can be created using function frozenset()\n"
   ]
  },
  {
   "cell_type": "markdown",
   "id": "b4b0726d",
   "metadata": {},
   "source": []
  },
  {
   "cell_type": "code",
   "execution_count": 51,
   "id": "ce7f81cd",
   "metadata": {},
   "outputs": [
    {
     "name": "stdout",
     "output_type": "stream",
     "text": [
      "frozenset({1, 2, 3, 4, 5, 6})\n"
     ]
    }
   ],
   "source": [
    "set1 = frozenset([1,2,3,4,5,5,6,6])\n",
    "print(set1)\n"
   ]
  },
  {
   "cell_type": "code",
   "execution_count": 52,
   "id": "ad8e8af8",
   "metadata": {},
   "outputs": [
    {
     "ename": "AttributeError",
     "evalue": "'frozenset' object has no attribute 'add'",
     "output_type": "error",
     "traceback": [
      "\u001b[0;31m---------------------------------------------------------------------------\u001b[0m",
      "\u001b[0;31mAttributeError\u001b[0m                            Traceback (most recent call last)",
      "Input \u001b[0;32mIn [52]\u001b[0m, in \u001b[0;36m<cell line: 1>\u001b[0;34m()\u001b[0m\n\u001b[0;32m----> 1\u001b[0m \u001b[43mset1\u001b[49m\u001b[38;5;241;43m.\u001b[39;49m\u001b[43madd\u001b[49m(\u001b[38;5;241m7\u001b[39m)\n",
      "\u001b[0;31mAttributeError\u001b[0m: 'frozenset' object has no attribute 'add'"
     ]
    }
   ],
   "source": [
    "set1.add(7)"
   ]
  },
  {
   "cell_type": "code",
   "execution_count": null,
   "id": "8aadd3f9",
   "metadata": {},
   "outputs": [],
   "source": [
    "# FROZEN set also supports intersection, union and symmetric difference. \n"
   ]
  },
  {
   "cell_type": "markdown",
   "id": "f67b73f5",
   "metadata": {},
   "source": [
    "# DICTIONARY\n"
   ]
  },
  {
   "cell_type": "code",
   "execution_count": 8,
   "id": "29824351",
   "metadata": {},
   "outputs": [
    {
     "name": "stdout",
     "output_type": "stream",
     "text": [
      "{1: 'abc', 2: 'xyz'}\n",
      "abc\n"
     ]
    }
   ],
   "source": [
    "#empty dictonary\n",
    "my_dcit = {}\n",
    "my_dict = dict()\n",
    "\n",
    "#dictionary with int keys\n",
    "my_dict = {1:'abc',2:'xyz'}\n",
    "print(my_dict)\n",
    "\n",
    "#dictonary with mixed keys\n",
    "my_dict = {'name':'sai',1: ['abc','xyz']}\n",
    "print(my_dict)\n",
    "print(my_dict[1][0])"
   ]
  },
  {
   "cell_type": "code",
   "execution_count": 9,
   "id": "a970af0a",
   "metadata": {},
   "outputs": [
    {
     "name": "stdout",
     "output_type": "stream",
     "text": [
      "abc\n"
     ]
    }
   ],
   "source": [
    "#Dict Access\n",
    "my_dict = {'name':'sai',1: ['abc','xyz']}\n",
    "print(my_dict[1][0])"
   ]
  },
  {
   "cell_type": "code",
   "execution_count": 10,
   "id": "749d9eb4",
   "metadata": {},
   "outputs": [
    {
     "name": "stdout",
     "output_type": "stream",
     "text": [
      "sai\n"
     ]
    }
   ],
   "source": [
    "# we can also fetch the value of the keys using get\n",
    "print(my_dict.get('name'))"
   ]
  },
  {
   "cell_type": "code",
   "execution_count": 17,
   "id": "014048c2",
   "metadata": {},
   "outputs": [
    {
     "name": "stdout",
     "output_type": "stream",
     "text": [
      "{'name': 'kumar', 'age': 28, 'address': 'hyd'}\n"
     ]
    }
   ],
   "source": [
    "# DIct add or modify elements\n",
    "# Create a dict\n",
    "my_dict = {'name':'sai','age':28,'address':'hyd'}\n",
    "\n",
    "\n",
    "#update address\n",
    "my_dict['name']='kumar'\n",
    "print(my_dict)"
   ]
  },
  {
   "cell_type": "code",
   "execution_count": 16,
   "id": "ae7d3313",
   "metadata": {},
   "outputs": [
    {
     "name": "stdout",
     "output_type": "stream",
     "text": [
      "28\n",
      "{'name': 'kumar', 'address': 'hyd'}\n"
     ]
    }
   ],
   "source": [
    "#remove parituclar item from dict.\n",
    "print(my_dict.pop('age'))\n",
    "print(my_dict)"
   ]
  },
  {
   "cell_type": "code",
   "execution_count": 18,
   "id": "d151a991",
   "metadata": {},
   "outputs": [
    {
     "name": "stdout",
     "output_type": "stream",
     "text": [
      "('address', 'hyd')\n"
     ]
    }
   ],
   "source": [
    "# remove arbitary(last) item from the dict\n",
    "my_dict = {'name':'sai','age':28,'address':'hyd'}\n",
    "print(my_dict.popitem())"
   ]
  },
  {
   "cell_type": "code",
   "execution_count": 21,
   "id": "561c5c53",
   "metadata": {},
   "outputs": [
    {
     "name": "stdout",
     "output_type": "stream",
     "text": [
      "{2: 4, 4: 16, 5: 25}\n"
     ]
    }
   ],
   "source": [
    "# remove an item from a dict using \"del\"\n",
    "squares = {2:4,3:9, 4:16, 5:25}\n",
    "del squares[3]\n",
    "print(squares)"
   ]
  },
  {
   "cell_type": "code",
   "execution_count": 22,
   "id": "d6387a5f",
   "metadata": {},
   "outputs": [
    {
     "name": "stdout",
     "output_type": "stream",
     "text": [
      "{}\n"
     ]
    }
   ],
   "source": [
    "squares.clear()\n",
    "print(squares)"
   ]
  },
  {
   "cell_type": "code",
   "execution_count": 23,
   "id": "05b8a1ca",
   "metadata": {},
   "outputs": [
    {
     "name": "stdout",
     "output_type": "stream",
     "text": [
      "{2: 4, 3: 9, 4: 16, 5: 25}\n"
     ]
    }
   ],
   "source": [
    "# DICTIONARY METHODS\n",
    "squares = {2:4,3:9, 4:16, 5:25}\n",
    "my_dict = squares.copy()\n",
    "print(my_dict)"
   ]
  },
  {
   "cell_type": "code",
   "execution_count": 27,
   "id": "4e2da0f1",
   "metadata": {},
   "outputs": [
    {
     "name": "stdout",
     "output_type": "stream",
     "text": [
      "{'math': 2, 'english': 2, 'science': 2}\n"
     ]
    }
   ],
   "source": [
    "#fromkeys(seq[,v]) -> return a new dict with keys from seq and value equal to v\n",
    "subjects = {}.fromkeys(['math','english','science'],2)\n",
    "print(subjects)"
   ]
  },
  {
   "cell_type": "code",
   "execution_count": 29,
   "id": "baa45667",
   "metadata": {},
   "outputs": [
    {
     "name": "stdout",
     "output_type": "stream",
     "text": [
      "dict_keys([2, 3, 4, 5])\n",
      "dict_values([4, 9, 16, 25])\n"
     ]
    }
   ],
   "source": [
    "#print only keys and vlaues\n",
    "squares = {2:4,3:9, 4:16, 5:25}\n",
    "print(squares.keys())\n",
    "print(squares.values())"
   ]
  },
  {
   "cell_type": "code",
   "execution_count": 30,
   "id": "317a4756",
   "metadata": {},
   "outputs": [
    {
     "name": "stdout",
     "output_type": "stream",
     "text": [
      "['__class__', '__class_getitem__', '__contains__', '__delattr__', '__delitem__', '__dir__', '__doc__', '__eq__', '__format__', '__ge__', '__getattribute__', '__getitem__', '__gt__', '__hash__', '__init__', '__init_subclass__', '__ior__', '__iter__', '__le__', '__len__', '__lt__', '__ne__', '__new__', '__or__', '__reduce__', '__reduce_ex__', '__repr__', '__reversed__', '__ror__', '__setattr__', '__setitem__', '__sizeof__', '__str__', '__subclasshook__', 'clear', 'copy', 'fromkeys', 'get', 'items', 'keys', 'pop', 'popitem', 'setdefault', 'update', 'values']\n"
     ]
    }
   ],
   "source": [
    "#all the methods that we can perform on dictionary\n",
    "d= {}\n",
    "print(dir(d))"
   ]
  },
  {
   "cell_type": "markdown",
   "id": "9c82a569",
   "metadata": {},
   "source": [
    "# DICT COMPHREHENSIONS"
   ]
  },
  {
   "cell_type": "code",
   "execution_count": 32,
   "id": "3492afd9",
   "metadata": {},
   "outputs": [
    {
     "name": "stdout",
     "output_type": "stream",
     "text": [
      "('a', 1)\n",
      "('b', 2)\n",
      "('c', 3)\n"
     ]
    }
   ],
   "source": [
    "# DIct comprehensions are similar to list comprehensions but for dict\n",
    "\n",
    "d = {'a':1, 'b':2, 'c':3}\n",
    "for pair in d.items():\n",
    "    print(pair)"
   ]
  },
  {
   "cell_type": "code",
   "execution_count": 34,
   "id": "f0895bc6",
   "metadata": {},
   "outputs": [
    {
     "name": "stdout",
     "output_type": "stream",
     "text": [
      "dict_items([('a', 1), ('b', 2), ('c', 3), ('d', 4)])\n",
      "dict_keys(['a', 'b', 'c', 'd'])\n",
      "dict_values([1, 2, 3, 4])\n",
      "{'c': 3, 'd': 4}\n"
     ]
    }
   ],
   "source": [
    "# creating a new dict with only pairs that vlaue is greater than 2\n",
    "\n",
    "d = {'a':1, 'b':2, 'c':3, 'd':4}\n",
    "print(d.items())\n",
    "print(d.keys())\n",
    "print(d.values())\n",
    "new_dict={k:v for k,v in d.items() if v > 2}\n",
    "print(new_dict)\n"
   ]
  },
  {
   "cell_type": "code",
   "execution_count": 35,
   "id": "be383ad9",
   "metadata": {},
   "outputs": [
    {
     "name": "stdout",
     "output_type": "stream",
     "text": [
      "{'c*': 9, 'd*': 16, 'e*': 25}\n"
     ]
    }
   ],
   "source": [
    "#We can also perform some operation on the key vlaue pairs\n",
    "\n",
    "d = {'a':1, 'b':2, 'c':3, 'd':4 , 'e':5}\n",
    "new_dict={k+'*':v**2 for k,v in d.items() if v > 2}\n",
    "print(new_dict)"
   ]
  },
  {
   "cell_type": "markdown",
   "id": "5e9668dd",
   "metadata": {},
   "source": [
    "# STRING\n",
    "\n",
    "A string is a basic seq of characters\n",
    "Computer deal with the binary numbers. Even though you see char on screen , internally it is stored as 1 and 0\n",
    "    This conversion is called encoding and reverse process is called decoding. ASCII and Unicode are popular encoding\n",
    "  In pYthon , string is a seq of Unicode character.\n",
    "  "
   ]
  },
  {
   "cell_type": "code",
   "execution_count": 62,
   "id": "97380287",
   "metadata": {},
   "outputs": [
    {
     "name": "stdout",
     "output_type": "stream",
     "text": [
      "h\n",
      "e\n",
      "el\n",
      "ll\n",
      "olleh\n",
      "olleh\n"
     ]
    }
   ],
   "source": [
    "# How to access characs of a string\n",
    "\n",
    "mystring = \"hello\"\n",
    "\n",
    "print(mystring[0])\n",
    "print(mystring[1])\n",
    "print(mystring[1:3])\n",
    "print(mystring[3:1:-1])\n",
    "print(mystring[::-1])\n",
    "\n",
    "l = []\n",
    "i=0\n",
    "for i in range(len(mystring)-1,-1,-1):\n",
    "    l.append(mystring[i])\n",
    "listtostr = ''.join([str(i) for i in l])\n",
    "print(listtostr)"
   ]
  },
  {
   "cell_type": "markdown",
   "id": "b026baed",
   "metadata": {},
   "source": [
    "# STRINGS\n",
    "\n",
    "We can access individual strings using indexing and range of characters using slicing.\n",
    "    Index starts from 0. Len of the string starts from one."
   ]
  },
  {
   "cell_type": "code",
   "execution_count": 69,
   "id": "351120ab",
   "metadata": {},
   "outputs": [
    {
     "name": "stdout",
     "output_type": "stream",
     "text": [
      "lw\n",
      "dlrowolleh\n",
      "lrowol\n"
     ]
    }
   ],
   "source": [
    "mystring = \"helloworld\"\n",
    "\n",
    "print(mystring[2:8:3])\n",
    "print(mystring[::-1])\n",
    "print(mystring[8:2:-1])"
   ]
  },
  {
   "cell_type": "code",
   "execution_count": null,
   "id": "91076a36",
   "metadata": {},
   "outputs": [],
   "source": [
    "#Index cant be float or out of range\n",
    "# del mystring completely deletes the string\n"
   ]
  },
  {
   "cell_type": "code",
   "execution_count": 70,
   "id": "0fbd62f3",
   "metadata": {},
   "outputs": [
    {
     "name": "stdout",
     "output_type": "stream",
     "text": [
      "helloworld\n"
     ]
    }
   ],
   "source": [
    "#string concatenation\n",
    "s1=\"hello\"\n",
    "s2=\"world\"\n",
    "\n",
    "print(s1+s2)"
   ]
  },
  {
   "cell_type": "code",
   "execution_count": 72,
   "id": "ddcef7ad",
   "metadata": {},
   "outputs": [
    {
     "name": "stdout",
     "output_type": "stream",
     "text": [
      "2 letters found\n"
     ]
    }
   ],
   "source": [
    "#iterating through string\n",
    "mystring = \"helloworld\"\n",
    "count =0 \n",
    "for l in mystring:\n",
    "    if l == \"o\":\n",
    "        count += 1\n",
    "print(count,\"letters found\")"
   ]
  },
  {
   "cell_type": "code",
   "execution_count": 73,
   "id": "11671eac",
   "metadata": {},
   "outputs": [
    {
     "name": "stdout",
     "output_type": "stream",
     "text": [
      "True\n"
     ]
    }
   ],
   "source": [
    "#boolean in string\n",
    "mystring = \"boolean in string\"\n",
    "print(\"l\" in mystring)"
   ]
  },
  {
   "cell_type": "code",
   "execution_count": 75,
   "id": "b7d1f0e3",
   "metadata": {},
   "outputs": [
    {
     "name": "stdout",
     "output_type": "stream",
     "text": [
      "True\n",
      "False\n"
     ]
    }
   ],
   "source": [
    "print(\"in\" in mystring)\n",
    "print(\"yay\" in mystring)"
   ]
  },
  {
   "cell_type": "code",
   "execution_count": 80,
   "id": "4eec9a47",
   "metadata": {},
   "outputs": [
    {
     "data": {
      "text/plain": [
       "'WORLD'"
      ]
     },
     "execution_count": 80,
     "metadata": {},
     "output_type": "execute_result"
    }
   ],
   "source": [
    "#STRING METHODS\n",
    "\n",
    "# Some commonly used string methods  lower(), upper(), join(), split(), find(), replace(), strip() etc..,..\n",
    "\n",
    "\"HELLO\".lower()\n",
    "\"world\".upper()\n"
   ]
  },
  {
   "cell_type": "code",
   "execution_count": 81,
   "id": "ff0c16e6",
   "metadata": {},
   "outputs": [
    {
     "data": {
      "text/plain": [
       "['this', 'will', 'split', 'all', 'the', 'the', 'words']"
      ]
     },
     "execution_count": 81,
     "metadata": {},
     "output_type": "execute_result"
    }
   ],
   "source": [
    "\"this will split all the the words\".split()"
   ]
  },
  {
   "cell_type": "code",
   "execution_count": 85,
   "id": "7f28e19b",
   "metadata": {},
   "outputs": [
    {
     "data": {
      "text/plain": [
       "'this will split all the the words'"
      ]
     },
     "execution_count": 85,
     "metadata": {},
     "output_type": "execute_result"
    }
   ],
   "source": [
    "' '.join(['this', 'will', 'split', 'all', 'the', 'the', 'words']) #you can specify the seperator in ' '"
   ]
  },
  {
   "cell_type": "code",
   "execution_count": 88,
   "id": "a8b13998",
   "metadata": {},
   "outputs": [
    {
     "data": {
      "text/plain": [
       "10"
      ]
     },
     "execution_count": 88,
     "metadata": {},
     "output_type": "execute_result"
    }
   ],
   "source": [
    "\"Good Morning\".find(\"ng\") #to find the index value of the word that we are looking out for.\n",
    " "
   ]
  },
  {
   "cell_type": "code",
   "execution_count": 89,
   "id": "631e1f43",
   "metadata": {},
   "outputs": [
    {
     "name": "stdout",
     "output_type": "stream",
     "text": [
      "Good Morning Bad Morning\n"
     ]
    }
   ],
   "source": [
    "s1 = \"Good Morning\"\n",
    "s2 =  s1.replace(\"Good\",\"Bad\")\n",
    "print(s1,s2)"
   ]
  },
  {
   "cell_type": "code",
   "execution_count": 93,
   "id": "900d099a",
   "metadata": {},
   "outputs": [
    {
     "name": "stdout",
     "output_type": "stream",
     "text": [
      "its a palindrome\n"
     ]
    }
   ],
   "source": [
    "#PYTHON PROGRAM TO CHECK WHETHER A STRING IS PALINDROME OR NOT\n",
    "mystr = \"Madam\"\n",
    "#convert the string to to either lower or upper\n",
    "mystr = mystr.lower()\n",
    "\n",
    "#reverse string\n",
    "revstr = reversed(mystr)\n",
    "\n",
    "#check if the strng equals the reversed string\n",
    "if list(mystr) == list(revstr):\n",
    "    print(\"its a palindrome\")\n",
    "else:\n",
    "    print(\"its not an palindrome\")\n",
    "    "
   ]
  },
  {
   "cell_type": "code",
   "execution_count": 95,
   "id": "97eca7b8",
   "metadata": {},
   "outputs": [
    {
     "name": "stdout",
     "output_type": "stream",
     "text": [
      "['sorting', 'words', 'in', 'alphabetical', 'order']\n",
      "alphabetical\n",
      "in\n",
      "order\n",
      "sorting\n",
      "words\n"
     ]
    }
   ],
   "source": [
    "# SORTING WORDS IN ALPHABETICAL ORDER\n",
    "\n",
    "mystr = \"sorting words in alphabetical order\"\n",
    "\n",
    "words =  mystr.split() #split the string and save as a list\n",
    "print(words)\n",
    "\n",
    "words.sort() #sorting the list in aplhabetical order\n",
    "\n",
    "for word in words:\n",
    "    print(word)\n"
   ]
  },
  {
   "cell_type": "code",
   "execution_count": 98,
   "id": "e926b308",
   "metadata": {},
   "outputs": [
    {
     "data": {
      "text/plain": [
       "'this is string'"
      ]
     },
     "execution_count": 98,
     "metadata": {},
     "output_type": "execute_result"
    }
   ],
   "source": [
    "a = \"this is string  \"\n",
    "a.strip() # removes the ending empty spaces in a string"
   ]
  },
  {
   "cell_type": "code",
   "execution_count": null,
   "id": "d1d3aadf",
   "metadata": {},
   "outputs": [],
   "source": []
  }
 ],
 "metadata": {
  "kernelspec": {
   "display_name": "Python 3 (ipykernel)",
   "language": "python",
   "name": "python3"
  },
  "language_info": {
   "codemirror_mode": {
    "name": "ipython",
    "version": 3
   },
   "file_extension": ".py",
   "mimetype": "text/x-python",
   "name": "python",
   "nbconvert_exporter": "python",
   "pygments_lexer": "ipython3",
   "version": "3.9.13"
  }
 },
 "nbformat": 4,
 "nbformat_minor": 5
}
