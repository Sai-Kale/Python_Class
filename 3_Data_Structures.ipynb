{
 "cells": [
  {
   "cell_type": "markdown",
   "id": "6709338d",
   "metadata": {},
   "source": [
    "# DATA STRUCTURES\n",
    "\n",
    "A data structure is collection of data elements (num, chars) that is structured in a way. for example numbering a elements.\n",
    "The most basic data structure is \"sequence\"\n",
    "\n",
    "-> List is a sequence\n",
    "-> list is a collection of items\n",
    "-> List is mutable and tuples are unmutable"
   ]
  },
  {
   "cell_type": "code",
   "execution_count": 1,
   "id": "c95ee4f4",
   "metadata": {},
   "outputs": [
    {
     "name": "stdout",
     "output_type": "stream",
     "text": [
      "[1, 'one', 'apple', 1.5]\n"
     ]
    }
   ],
   "source": [
    "#LIST CREATION\n",
    "\n",
    "emptyList = []\n",
    "lst = ['one','two']\n",
    "lst2 =  [1,2,3,4]\n",
    "lst3 = [[1,2],[1,4]]\n",
    "lst4 = [1,'one','apple',1.5]\n",
    "print(lst4)"
   ]
  },
  {
   "cell_type": "code",
   "execution_count": 2,
   "id": "24c19cd1",
   "metadata": {},
   "outputs": [
    {
     "name": "stdout",
     "output_type": "stream",
     "text": [
      "['one', 'two', 'three', 'four']\n"
     ]
    }
   ],
   "source": [
    "# LIST APPEND\n",
    "lst = ['one','two','three']\n",
    "\n",
    "lst.append('four')\n",
    "print(lst)"
   ]
  },
  {
   "cell_type": "code",
   "execution_count": 3,
   "id": "917c7072",
   "metadata": {},
   "outputs": [
    {
     "name": "stdout",
     "output_type": "stream",
     "text": [
      "['one', 'two', 'four', 'three']\n"
     ]
    }
   ],
   "source": [
    "# LIST INSERT\n",
    "lst = ['one','two','three']\n",
    "\n",
    "lst.insert(2, \"four\") # will insert element \"four\" at index 2\n",
    "\n",
    "print(lst)\n"
   ]
  },
  {
   "cell_type": "code",
   "execution_count": 4,
   "id": "0fbb90ed",
   "metadata": {},
   "outputs": [
    {
     "name": "stdout",
     "output_type": "stream",
     "text": [
      "['one', 'three', 'apple', 'bird']\n"
     ]
    }
   ],
   "source": [
    "# LIST REMOVE\n",
    "\n",
    "lst = ['one','apple','three','apple','bird']\n",
    "lst.remove('apple') #it will only remove the first occurence of apple\n",
    "\n",
    "print(lst)"
   ]
  },
  {
   "cell_type": "code",
   "execution_count": 5,
   "id": "cb8121b8",
   "metadata": {},
   "outputs": [
    {
     "name": "stdout",
     "output_type": "stream",
     "text": [
      "['one', 'apple', 'three', 'apple', 'bird', 'four', 'five', 'six']\n"
     ]
    }
   ],
   "source": [
    "# LIST APPEND & EXTEND\n",
    "\n",
    "lst = ['one','apple','three','apple','bird']\n",
    "lst1 = ['four','five','six']\n",
    "\n",
    "lst.extend(lst1)\n",
    "\n",
    "print(lst)\n"
   ]
  },
  {
   "cell_type": "code",
   "execution_count": 9,
   "id": "b6d74fee",
   "metadata": {},
   "outputs": [
    {
     "name": "stdout",
     "output_type": "stream",
     "text": [
      "['one', 'three', 'apple', 'bird']\n",
      "['one', 'three', 'bird']\n",
      "['one', 'three']\n"
     ]
    }
   ],
   "source": [
    "# LIST DELETE\n",
    "\n",
    "lst = ['one','apple','three','apple','bird']\n",
    "\n",
    "del lst[1]\n",
    "\n",
    "print(lst)\n",
    " \n",
    "# OR\n",
    "\n",
    "lst.pop(2)\n",
    "\n",
    "print(lst)\n",
    "\n",
    "# OR\n",
    "\n",
    "lst.remove('bird')\n",
    "print(lst)"
   ]
  },
  {
   "cell_type": "code",
   "execution_count": 10,
   "id": "18217c7a",
   "metadata": {},
   "outputs": [
    {
     "name": "stdout",
     "output_type": "stream",
     "text": [
      "yay\n",
      "bird in the list\n"
     ]
    }
   ],
   "source": [
    "# LIST RELATED KEYWORDS IN PYTHON\n",
    "\n",
    "    # 'in' is used to test if an item is in the list\n",
    "    \n",
    "lst = ['one','apple','three','apple','bird']\n",
    "\n",
    "if 'apple' in lst:\n",
    "    print(\"yay\")\n",
    "    \n",
    "if 'bird' not in lst:\n",
    "    print(\"brid is not there\")\n",
    "else:\n",
    "    print(\"bird in the list\")"
   ]
  },
  {
   "cell_type": "code",
   "execution_count": 11,
   "id": "f307fedf",
   "metadata": {},
   "outputs": [
    {
     "name": "stdout",
     "output_type": "stream",
     "text": [
      "['bird', 'apple', 'three', 'apple', 'one']\n"
     ]
    }
   ],
   "source": [
    "# LIST REVERSE\n",
    "\n",
    "lst = ['one','apple','three','apple','bird']\n",
    "\n",
    "lst.reverse()\n",
    "print(lst)"
   ]
  },
  {
   "cell_type": "markdown",
   "id": "c021d515",
   "metadata": {},
   "source": [
    "# List Sorting\n",
    "\n",
    "The easiest way to sort a list is sorted(list) function\n",
    "then take a list and returns the elements in the sorted order,\n",
    "the original list is not changed.\n",
    "the sorted() optional argument reverse=True, ex: sorted(list,reverse=True), make it sort backwards.\n"
   ]
  },
  {
   "cell_type": "code",
   "execution_count": 12,
   "id": "32e3a55b",
   "metadata": {},
   "outputs": [
    {
     "name": "stdout",
     "output_type": "stream",
     "text": [
      "['apple', 'apple', 'bird', 'one', 'three']\n"
     ]
    }
   ],
   "source": [
    "lst = ['one','apple','three','apple','bird']\n",
    "\n",
    "sorted_lst=sorted(lst)\n",
    "print(sorted_lst)"
   ]
  },
  {
   "cell_type": "code",
   "execution_count": 13,
   "id": "2b6698ac",
   "metadata": {},
   "outputs": [
    {
     "name": "stdout",
     "output_type": "stream",
     "text": [
      "['three', 'one', 'bird', 'apple', 'apple']\n"
     ]
    }
   ],
   "source": [
    "# Print the sorted list in reverse order\n",
    "\n",
    "reverse_sorted_lst=sorted(lst,reverse=True)\n",
    "\n",
    "print(reverse_sorted_lst)"
   ]
  },
  {
   "cell_type": "code",
   "execution_count": 18,
   "id": "8f7bfb5b",
   "metadata": {},
   "outputs": [
    {
     "name": "stdout",
     "output_type": "stream",
     "text": [
      "['apple', 'apple', 'bird', 'one', 'three']\n"
     ]
    }
   ],
   "source": [
    "#directly print the stuff\n",
    "lst = ['one','apple','three','apple','bird']\n",
    "lst.sort()\n",
    "\n",
    "print (lst)"
   ]
  },
  {
   "cell_type": "code",
   "execution_count": 19,
   "id": "eaa40c8f",
   "metadata": {},
   "outputs": [
    {
     "ename": "TypeError",
     "evalue": "'<' not supported between instances of 'int' and 'str'",
     "output_type": "error",
     "traceback": [
      "\u001b[0;31m---------------------------------------------------------------------------\u001b[0m",
      "\u001b[0;31mTypeError\u001b[0m                                 Traceback (most recent call last)",
      "Input \u001b[0;32mIn [19]\u001b[0m, in \u001b[0;36m<cell line: 4>\u001b[0;34m()\u001b[0m\n\u001b[1;32m      1\u001b[0m \u001b[38;5;66;03m# Exception is you cant sort various data types.\u001b[39;00m\n\u001b[1;32m      3\u001b[0m lst \u001b[38;5;241m=\u001b[39m [\u001b[38;5;124m'\u001b[39m\u001b[38;5;124mone\u001b[39m\u001b[38;5;124m'\u001b[39m,\u001b[38;5;124m'\u001b[39m\u001b[38;5;124mapple\u001b[39m\u001b[38;5;124m'\u001b[39m,\u001b[38;5;241m2\u001b[39m,\u001b[38;5;241m1\u001b[39m,\u001b[38;5;124m'\u001b[39m\u001b[38;5;124mbird\u001b[39m\u001b[38;5;124m'\u001b[39m]\n\u001b[0;32m----> 4\u001b[0m \u001b[43mlst\u001b[49m\u001b[38;5;241;43m.\u001b[39;49m\u001b[43msort\u001b[49m\u001b[43m(\u001b[49m\u001b[43m)\u001b[49m\n\u001b[1;32m      6\u001b[0m \u001b[38;5;28mprint\u001b[39m (lst)\n",
      "\u001b[0;31mTypeError\u001b[0m: '<' not supported between instances of 'int' and 'str'"
     ]
    }
   ],
   "source": [
    "# Exception is you cant sort various data types.\n",
    "\n",
    "lst = ['one','apple',2,1,'bird']\n",
    "lst.sort()\n",
    "\n",
    "print (lst)"
   ]
  },
  {
   "cell_type": "code",
   "execution_count": 20,
   "id": "ea3a4cd7",
   "metadata": {},
   "outputs": [
    {
     "name": "stdout",
     "output_type": "stream",
     "text": [
      "original list [1, 2, 4, 5, 6, '9']\n"
     ]
    }
   ],
   "source": [
    "# List having Multiple references\n",
    "\n",
    "lst=[1,2,4,5,6]\n",
    "abc = lst.append('9')\n",
    "\n",
    "print(\"original list\",lst)"
   ]
  },
  {
   "cell_type": "code",
   "execution_count": 23,
   "id": "65da3b22",
   "metadata": {},
   "outputs": [
    {
     "name": "stdout",
     "output_type": "stream",
     "text": [
      "['one', 'two', 'three', 'four']\n"
     ]
    }
   ],
   "source": [
    "# String Split to create a List\n",
    "\n",
    "s = \"one,two,three,four\"\n",
    "slst = s.split(',')\n",
    "print(slst)"
   ]
  },
  {
   "cell_type": "code",
   "execution_count": null,
   "id": "19ec3c6e",
   "metadata": {},
   "outputs": [],
   "source": []
  }
 ],
 "metadata": {
  "kernelspec": {
   "display_name": "Python 3 (ipykernel)",
   "language": "python",
   "name": "python3"
  },
  "language_info": {
   "codemirror_mode": {
    "name": "ipython",
    "version": 3
   },
   "file_extension": ".py",
   "mimetype": "text/x-python",
   "name": "python",
   "nbconvert_exporter": "python",
   "pygments_lexer": "ipython3",
   "version": "3.9.13"
  }
 },
 "nbformat": 4,
 "nbformat_minor": 5
}
