{
 "cells": [
  {
   "cell_type": "code",
   "execution_count": null,
   "id": "30d7cda6",
   "metadata": {},
   "outputs": [],
   "source": [
    "keywords in python"
   ]
  },
  {
   "cell_type": "code",
   "execution_count": 1,
   "id": "8ab2937e",
   "metadata": {},
   "outputs": [
    {
     "name": "stdout",
     "output_type": "stream",
     "text": [
      "['False', 'None', 'True', '__peg_parser__', 'and', 'as', 'assert', 'async', 'await', 'break', 'class', 'continue', 'def', 'del', 'elif', 'else', 'except', 'finally', 'for', 'from', 'global', 'if', 'import', 'in', 'is', 'lambda', 'nonlocal', 'not', 'or', 'pass', 'raise', 'return', 'try', 'while', 'with', 'yield']\n"
     ]
    }
   ],
   "source": [
    "import keyword\n",
    "print (keyword.kwlist)"
   ]
  },
  {
   "cell_type": "markdown",
   "id": "a229bf60",
   "metadata": {},
   "source": [
    "Identifiers names which  you give to the entity class, functions, variables, we cant use any symbols like !,@ , #, $ , %\n",
    "\n",
    "Rules for wirting Identifiers:\n",
    "    1. Identifiers can be combinaition (a to z) (A- Z) (1-9)\n",
    "    2. it should not start with a digit.\n",
    "    3. keyword cant be identifiers\n"
   ]
  },
  {
   "cell_type": "code",
   "execution_count": 6,
   "id": "cc7dfd71",
   "metadata": {},
   "outputs": [
    {
     "ename": "SyntaxError",
     "evalue": "invalid syntax (304297353.py, line 1)",
     "output_type": "error",
     "traceback": [
      "\u001b[0;36m  Input \u001b[0;32mIn [6]\u001b[0;36m\u001b[0m\n\u001b[0;31m    1sai = 1\u001b[0m\n\u001b[0m     ^\u001b[0m\n\u001b[0;31mSyntaxError\u001b[0m\u001b[0;31m:\u001b[0m invalid syntax\n"
     ]
    }
   ],
   "source": [
    "sai = \"hello world\""
   ]
  },
  {
   "cell_type": "code",
   "execution_count": null,
   "id": "5929c071",
   "metadata": {},
   "outputs": [],
   "source": [
    "Variables\n",
    "\n",
    "a location in a memory to store data\n",
    " a = 3\n",
    " b = 10\n"
   ]
  },
  {
   "cell_type": "markdown",
   "id": "5b8f45c6",
   "metadata": {},
   "source": [
    "a = 3\n",
    "b = 5.5\n",
    "c = \"ML\"\n",
    "print (a+b+c)"
   ]
  },
  {
   "cell_type": "code",
   "execution_count": 8,
   "id": "8b5cf113",
   "metadata": {},
   "outputs": [
    {
     "name": "stdout",
     "output_type": "stream",
     "text": [
      "8.5\n"
     ]
    }
   ],
   "source": [
    "a = 3\n",
    "b = 5.5\n",
    "c = \"ML\"\n",
    "print (a+b)"
   ]
  },
  {
   "cell_type": "code",
   "execution_count": 9,
   "id": "168796e6",
   "metadata": {},
   "outputs": [
    {
     "name": "stdout",
     "output_type": "stream",
     "text": [
      "3\n",
      "4\n"
     ]
    }
   ],
   "source": [
    "a,b,c = 3,4,5\n",
    "print (a)\n",
    "print (b)"
   ]
  },
  {
   "cell_type": "code",
   "execution_count": 10,
   "id": "b4175139",
   "metadata": {},
   "outputs": [],
   "source": [
    "a = b = c = \"ML\""
   ]
  },
  {
   "cell_type": "code",
   "execution_count": 11,
   "id": "de70e5fc",
   "metadata": {},
   "outputs": [
    {
     "name": "stdout",
     "output_type": "stream",
     "text": [
      "ML\n",
      "ML\n",
      "ML\n"
     ]
    }
   ],
   "source": [
    "print (a)\n",
    "print (b)\n",
    "print (c)"
   ]
  },
  {
   "cell_type": "code",
   "execution_count": 12,
   "id": "a87132d9",
   "metadata": {},
   "outputs": [
    {
     "name": "stdout",
     "output_type": "stream",
     "text": [
      "140462894238096\n"
     ]
    }
   ],
   "source": [
    "a = 4\n",
    "print (id(a))"
   ]
  },
  {
   "cell_type": "code",
   "execution_count": null,
   "id": "f01cc2ae",
   "metadata": {},
   "outputs": [],
   "source": [
    "Data Types:\n",
    "\n",
    "Numbers ( Integer, Float, Complex)\n",
    "\n",
    "1,2,3...\n",
    "1.5, 3.3. .. (float)\n",
    "10+4i (complex)\n",
    "\n",
    "BOOLEAN \n",
    "\n",
    "STRINGS\n",
    "\n",
    "\n",
    "s = \"hey how are you doing\"\n",
    "Index always start from 0,\n",
    "\n",
    "LISTS\n",
    "\n",
    "lists are mutable, value of the elements in the list can be altered.\n",
    "\n",
    "TUPLES \n",
    "\n",
    "tuples are immutable, value of the elements can't be changed."
   ]
  },
  {
   "cell_type": "code",
   "execution_count": 17,
   "id": "dda2b9ab",
   "metadata": {},
   "outputs": [
    {
     "name": "stdout",
     "output_type": "stream",
     "text": [
      "hey how are you doing\n"
     ]
    }
   ],
   "source": [
    "a = True\n",
    "type(a)\n",
    "s = \"hey how are you doing\"\n",
    "print(s)\n"
   ]
  },
  {
   "cell_type": "code",
   "execution_count": 14,
   "id": "cc72f2da",
   "metadata": {},
   "outputs": [
    {
     "data": {
      "text/plain": [
       "complex"
      ]
     },
     "execution_count": 14,
     "metadata": {},
     "output_type": "execute_result"
    }
   ],
   "source": [
    "type(a)"
   ]
  },
  {
   "cell_type": "code",
   "execution_count": 21,
   "id": "2e248cde",
   "metadata": {},
   "outputs": [
    {
     "name": "stdout",
     "output_type": "stream",
     "text": [
      " World\n"
     ]
    }
   ],
   "source": [
    "s = \"Hello World\"\n",
    "print(s[5:])\n"
   ]
  },
  {
   "cell_type": "code",
   "execution_count": 24,
   "id": "3008ccca",
   "metadata": {},
   "outputs": [
    {
     "name": "stdout",
     "output_type": "stream",
     "text": [
      "[1, 2, 3, 'hello', 'testing']\n",
      "hello\n",
      "[1, 2, 3, 'hello', 'test']\n"
     ]
    }
   ],
   "source": [
    "\n",
    "a = [1,2,3,\"hello\",\"testing\"]\n",
    "print(a)\n",
    "print(a[3])\n",
    "a[4] = \"test\"\n",
    "print(a)"
   ]
  },
  {
   "cell_type": "code",
   "execution_count": 25,
   "id": "3a6def5e",
   "metadata": {},
   "outputs": [
    {
     "name": "stdout",
     "output_type": "stream",
     "text": [
      "(1, 2, 'hello')\n"
     ]
    },
    {
     "ename": "TypeError",
     "evalue": "'tuple' object does not support item assignment",
     "output_type": "error",
     "traceback": [
      "\u001b[0;31m---------------------------------------------------------------------------\u001b[0m",
      "\u001b[0;31mTypeError\u001b[0m                                 Traceback (most recent call last)",
      "Input \u001b[0;32mIn [25]\u001b[0m, in \u001b[0;36m<cell line: 3>\u001b[0;34m()\u001b[0m\n\u001b[1;32m      1\u001b[0m b \u001b[38;5;241m=\u001b[39m (\u001b[38;5;241m1\u001b[39m,\u001b[38;5;241m2\u001b[39m,\u001b[38;5;124m\"\u001b[39m\u001b[38;5;124mhello\u001b[39m\u001b[38;5;124m\"\u001b[39m)\n\u001b[1;32m      2\u001b[0m \u001b[38;5;28mprint\u001b[39m(b)\n\u001b[0;32m----> 3\u001b[0m b[\u001b[38;5;241m2\u001b[39m] \u001b[38;5;241m=\u001b[39m \u001b[38;5;124m\"\u001b[39m\u001b[38;5;124mhey\u001b[39m\u001b[38;5;124m\"\u001b[39m\n\u001b[1;32m      4\u001b[0m \u001b[38;5;28mprint\u001b[39m(b)\n",
      "\u001b[0;31mTypeError\u001b[0m: 'tuple' object does not support item assignment"
     ]
    }
   ],
   "source": [
    "b = (1,2,\"hello\")\n",
    "print(b)\n",
    "b[2] = \"hey\"\n",
    "print(b)"
   ]
  },
  {
   "cell_type": "markdown",
   "id": "f075f066",
   "metadata": {},
   "source": [
    "SET\n",
    "\n",
    "set is a unordered collection of unique items. Set is defined by values seperated comma inside curly braces {}\n",
    "\n"
   ]
  },
  {
   "cell_type": "code",
   "execution_count": 29,
   "id": "6dcde4c0",
   "metadata": {},
   "outputs": [
    {
     "name": "stdout",
     "output_type": "stream",
     "text": [
      "{40, 10, 20, 30}\n",
      "{10, 20, 90, 30}\n"
     ]
    },
    {
     "ename": "TypeError",
     "evalue": "'set' object is not subscriptable",
     "output_type": "error",
     "traceback": [
      "\u001b[0;31m---------------------------------------------------------------------------\u001b[0m",
      "\u001b[0;31mTypeError\u001b[0m                                 Traceback (most recent call last)",
      "Input \u001b[0;32mIn [29]\u001b[0m, in \u001b[0;36m<cell line: 6>\u001b[0;34m()\u001b[0m\n\u001b[1;32m      3\u001b[0m b\u001b[38;5;241m=\u001b[39m {\u001b[38;5;241m10\u001b[39m, \u001b[38;5;241m10\u001b[39m, \u001b[38;5;241m10\u001b[39m ,\u001b[38;5;241m20\u001b[39m , \u001b[38;5;241m30\u001b[39m, \u001b[38;5;241m30\u001b[39m, \u001b[38;5;241m30\u001b[39m, \u001b[38;5;241m90\u001b[39m}\n\u001b[1;32m      4\u001b[0m \u001b[38;5;28mprint\u001b[39m(b)\n\u001b[0;32m----> 6\u001b[0m \u001b[38;5;28mprint\u001b[39m(\u001b[43mb\u001b[49m\u001b[43m[\u001b[49m\u001b[38;5;241;43m3\u001b[39;49m\u001b[43m]\u001b[49m)\n",
      "\u001b[0;31mTypeError\u001b[0m: 'set' object is not subscriptable"
     ]
    }
   ],
   "source": [
    "a = {10,20,30,40}\n",
    "print(a)\n",
    "b= {10, 10, 10 ,20 , 30, 30, 30, 90}\n",
    "print(b)\n",
    "\n",
    "print(b[3])"
   ]
  },
  {
   "cell_type": "markdown",
   "id": "45051ee5",
   "metadata": {},
   "source": [
    "DICTIONARY\n",
    "\n",
    "it is an unordered collection of key pairs (key then we have a value )\n"
   ]
  },
  {
   "cell_type": "code",
   "execution_count": 32,
   "id": "04047cd9",
   "metadata": {},
   "outputs": [
    {
     "name": "stdout",
     "output_type": "stream",
     "text": [
      "8984\n"
     ]
    }
   ],
   "source": [
    "d = {'a':\"apple\",'aadhar':\"8984\"}\n",
    "print(d['aadhar'])"
   ]
  },
  {
   "cell_type": "markdown",
   "id": "4f47a69a",
   "metadata": {},
   "source": [
    "Convert int to strings , float to int"
   ]
  },
  {
   "cell_type": "code",
   "execution_count": 34,
   "id": "f55b3aa1",
   "metadata": {},
   "outputs": [
    {
     "data": {
      "text/plain": [
       "100"
      ]
     },
     "execution_count": 34,
     "metadata": {},
     "output_type": "execute_result"
    }
   ],
   "source": [
    "str(10)\n",
    "int(100.5)"
   ]
  },
  {
   "cell_type": "code",
   "execution_count": 35,
   "id": "32fcdd23",
   "metadata": {},
   "outputs": [
    {
     "ename": "ValueError",
     "evalue": "invalid literal for int() with base 10: 'sai10'",
     "output_type": "error",
     "traceback": [
      "\u001b[0;31m---------------------------------------------------------------------------\u001b[0m",
      "\u001b[0;31mValueError\u001b[0m                                Traceback (most recent call last)",
      "Input \u001b[0;32mIn [35]\u001b[0m, in \u001b[0;36m<cell line: 1>\u001b[0;34m()\u001b[0m\n\u001b[0;32m----> 1\u001b[0m \u001b[38;5;28;43mint\u001b[39;49m\u001b[43m(\u001b[49m\u001b[38;5;124;43m'\u001b[39;49m\u001b[38;5;124;43msai10\u001b[39;49m\u001b[38;5;124;43m'\u001b[39;49m\u001b[43m)\u001b[49m\n",
      "\u001b[0;31mValueError\u001b[0m: invalid literal for int() with base 10: 'sai10'"
     ]
    }
   ],
   "source": [
    "int('sai10')"
   ]
  },
  {
   "cell_type": "code",
   "execution_count": 38,
   "id": "81259cd6",
   "metadata": {},
   "outputs": [
    {
     "name": "stdout",
     "output_type": "stream",
     "text": [
      "hello I have read10lines\n"
     ]
    }
   ],
   "source": [
    "a= \"hello I have read\"\n",
    "b = 10\n",
    "c= \"lines\"\n",
    "print(a+ str(b) +c)"
   ]
  },
  {
   "cell_type": "code",
   "execution_count": 51,
   "id": "c84b9bab",
   "metadata": {},
   "outputs": [
    {
     "name": "stdout",
     "output_type": "stream",
     "text": [
      "[1, 2, 4, 4, 4, 6, 5, 6, 4, 8]\n",
      "{1, 2, 4, 5, 6, 8}\n",
      "(1, 2, 4, 4, 4, 6, 5, 6, 4, 8)\n"
     ]
    }
   ],
   "source": [
    "\"\"\"CONVERTING LIST TO TUPLE, \n",
    "TUPLE TO SET, \n",
    "LIST TO SET\"\"\"\n",
    "\n",
    "#this is a comment\n",
    "a = [1,2,4,4,4,6,5,6,4,8]\n",
    "    \n",
    "print(a)\n",
    "\n",
    "s = set(a)\n",
    "\n",
    "print(s)\n",
    "\n",
    "t =  tuple(a)\n",
    "\n",
    "print(t)\n",
    "\n",
    "def double(num):\n",
    "    \"\"\"this \n",
    "    doubles the number\"\"\"\n",
    "    return 2*num\n"
   ]
  },
  {
   "cell_type": "code",
   "execution_count": 42,
   "id": "932614e4",
   "metadata": {},
   "outputs": [
    {
     "data": {
      "text/plain": [
       "['h', 'e', 'l', 'l', 'o']"
      ]
     },
     "execution_count": 42,
     "metadata": {},
     "output_type": "execute_result"
    }
   ],
   "source": [
    "list(\"hello\")"
   ]
  },
  {
   "cell_type": "code",
   "execution_count": 43,
   "id": "c1c7ccd7",
   "metadata": {},
   "outputs": [
    {
     "data": {
      "text/plain": [
       "['1', '0', '0']"
      ]
     },
     "execution_count": 43,
     "metadata": {},
     "output_type": "execute_result"
    }
   ],
   "source": [
    "list(\"100\")"
   ]
  },
  {
   "cell_type": "code",
   "execution_count": null,
   "id": "9c76c1d1",
   "metadata": {},
   "outputs": [],
   "source": [
    "# comments\n",
    "\n"
   ]
  },
  {
   "cell_type": "code",
   "execution_count": 52,
   "id": "e4a244ff",
   "metadata": {},
   "outputs": [
    {
     "name": "stdout",
     "output_type": "stream",
     "text": [
      "6\n",
      "this \n",
      "    doubles the number\n"
     ]
    }
   ],
   "source": [
    "#doc string is short hand for documentation string.\n",
    "\n",
    "print(double(3))\n",
    "\n",
    "print(double.__doc__)"
   ]
  },
  {
   "cell_type": "code",
   "execution_count": 54,
   "id": "5290ec2e",
   "metadata": {},
   "outputs": [
    {
     "name": "stdout",
     "output_type": "stream",
     "text": [
      "\n",
      "pandas - a powerful data analysis and manipulation library for Python\n",
      "=====================================================================\n",
      "\n",
      "**pandas** is a Python package providing fast, flexible, and expressive data\n",
      "structures designed to make working with \"relational\" or \"labeled\" data both\n",
      "easy and intuitive. It aims to be the fundamental high-level building block for\n",
      "doing practical, **real world** data analysis in Python. Additionally, it has\n",
      "the broader goal of becoming **the most powerful and flexible open source data\n",
      "analysis / manipulation tool available in any language**. It is already well on\n",
      "its way toward this goal.\n",
      "\n",
      "Main Features\n",
      "-------------\n",
      "Here are just a few of the things that pandas does well:\n",
      "\n",
      "  - Easy handling of missing data in floating point as well as non-floating\n",
      "    point data.\n",
      "  - Size mutability: columns can be inserted and deleted from DataFrame and\n",
      "    higher dimensional objects\n",
      "  - Automatic and explicit data alignment: objects can be explicitly aligned\n",
      "    to a set of labels, or the user can simply ignore the labels and let\n",
      "    `Series`, `DataFrame`, etc. automatically align the data for you in\n",
      "    computations.\n",
      "  - Powerful, flexible group by functionality to perform split-apply-combine\n",
      "    operations on data sets, for both aggregating and transforming data.\n",
      "  - Make it easy to convert ragged, differently-indexed data in other Python\n",
      "    and NumPy data structures into DataFrame objects.\n",
      "  - Intelligent label-based slicing, fancy indexing, and subsetting of large\n",
      "    data sets.\n",
      "  - Intuitive merging and joining data sets.\n",
      "  - Flexible reshaping and pivoting of data sets.\n",
      "  - Hierarchical labeling of axes (possible to have multiple labels per tick).\n",
      "  - Robust IO tools for loading data from flat files (CSV and delimited),\n",
      "    Excel files, databases, and saving/loading data from the ultrafast HDF5\n",
      "    format.\n",
      "  - Time series-specific functionality: date range generation and frequency\n",
      "    conversion, moving window statistics, date shifting and lagging.\n",
      "\n"
     ]
    }
   ],
   "source": [
    "import pandas\n",
    "print (pandas.__doc__)"
   ]
  },
  {
   "cell_type": "code",
   "execution_count": 57,
   "id": "d00dfc48",
   "metadata": {},
   "outputs": [
    {
     "ename": "IndentationError",
     "evalue": "expected an indented block (1532898161.py, line 4)",
     "output_type": "error",
     "traceback": [
      "\u001b[0;36m  Input \u001b[0;32mIn [57]\u001b[0;36m\u001b[0m\n\u001b[0;31m    print(j)\u001b[0m\n\u001b[0m    ^\u001b[0m\n\u001b[0;31mIndentationError\u001b[0m\u001b[0;31m:\u001b[0m expected an indented block\n"
     ]
    }
   ],
   "source": [
    "for i in range(0,5):\n",
    "    print(i)\n",
    "    for j in range(0,10):\n",
    "    print(j)"
   ]
  },
  {
   "cell_type": "code",
   "execution_count": 59,
   "id": "a3247673",
   "metadata": {},
   "outputs": [
    {
     "name": "stdout",
     "output_type": "stream",
     "text": [
      "31\n"
     ]
    }
   ],
   "source": [
    "a = (1+2+4+\n",
    "    5+6+4\n",
    "    +9)\n",
    "print(a)"
   ]
  },
  {
   "cell_type": "code",
   "execution_count": 63,
   "id": "b5fe5ba2",
   "metadata": {},
   "outputs": [
    {
     "name": "stdout",
     "output_type": "stream",
     "text": [
      "hello world\n",
      "the value of a is 10\n"
     ]
    }
   ],
   "source": [
    "#PYTHON INPUT & OUTPUT\n",
    "\n",
    "print(\"hello world\")\n",
    "a = 10\n",
    "print(\"the value of a is \" + str(a))"
   ]
  },
  {
   "cell_type": "code",
   "execution_count": 72,
   "id": "8b953408",
   "metadata": {},
   "outputs": [
    {
     "name": "stdout",
     "output_type": "stream",
     "text": [
      "Hey this is sai, I live in india\n",
      "this is the number 10\n",
      "Hey this is india, I live in sai\n",
      "Hey this is india, I live in sai I like 10apples\n"
     ]
    }
   ],
   "source": [
    "#OUTPUT FORMATTING\n",
    "a,b=\"sai\",\"india\"\n",
    "\n",
    "print(\"Hey this is {}, I live in {}\".format(a,b))\n",
    "print(\"this is the number {}\".format(\"10\"))\n",
    "print(\"Hey this is {1}, I live in {0}\".format(a,b))\n",
    "print(\"Hey this is {1}, I live in {0} I like {c}{other}\".format(a,b,c=10,other='apples'))"
   ]
  },
  {
   "cell_type": "code",
   "execution_count": 75,
   "id": "0a6c2878",
   "metadata": {},
   "outputs": [
    {
     "name": "stdout",
     "output_type": "stream",
     "text": [
      "enter a numberhello\n",
      "hello\n"
     ]
    }
   ],
   "source": [
    "number=input(\"enter a number\")\n",
    "print(number)"
   ]
  },
  {
   "cell_type": "markdown",
   "id": "4f410d7b",
   "metadata": {},
   "source": [
    "# OPERATORS \n",
    "\n",
    "1. arithmetic operators\n",
    "2. comparison operators\n",
    "3. Logical(boolean) operators\n",
    "4. bitwise\n",
    "5. Asignment operatos \n",
    "6. special operators\n"
   ]
  },
  {
   "cell_type": "code",
   "execution_count": 76,
   "id": "d55c4fbe",
   "metadata": {},
   "outputs": [
    {
     "name": "stdout",
     "output_type": "stream",
     "text": [
      "30\n",
      "-10\n",
      "200\n",
      "0.5\n",
      "10\n",
      "0\n",
      "100000000000000000000\n"
     ]
    }
   ],
   "source": [
    "#ARITHMETIC OPERATORS\n",
    "\n",
    "# +, -, *, \n",
    "\n",
    "x,y = 10,20\n",
    "\n",
    "# addition\n",
    "print(x+y)\n",
    "\n",
    "#subraction\n",
    "print(x-y)\n",
    "\n",
    "#multi\n",
    "print(x*y)\n",
    "\n",
    "#division\n",
    "print(x/y)\n",
    "\n",
    "#modulo divison\n",
    "print(x%y)\n",
    "\n",
    "#Floor division\n",
    "print(x//y)\n",
    "\n",
    "#Exponent\n",
    "print(x**y)\n",
    "\n",
    "\n"
   ]
  },
  {
   "cell_type": "code",
   "execution_count": 99,
   "id": "d7425763",
   "metadata": {},
   "outputs": [
    {
     "name": "stdout",
     "output_type": "stream",
     "text": [
      "False\n"
     ]
    }
   ],
   "source": [
    "#COMPARISON OPERATORS\n",
    "# >,>, ==, != , >= , \n",
    "\n",
    "a, b = 10, 20\n",
    "print (a > b)"
   ]
  },
  {
   "cell_type": "code",
   "execution_count": 93,
   "id": "f2362e64",
   "metadata": {},
   "outputs": [
    {
     "name": "stdout",
     "output_type": "stream",
     "text": [
      "True\n"
     ]
    }
   ],
   "source": [
    "# LOGICAL OPERATORS\n",
    "\n",
    "# and, or, not\n",
    "#a, b = True, False\n",
    "print(a or b)"
   ]
  },
  {
   "cell_type": "code",
   "execution_count": 101,
   "id": "ba110408",
   "metadata": {},
   "outputs": [
    {
     "name": "stdout",
     "output_type": "stream",
     "text": [
      "30\n"
     ]
    }
   ],
   "source": [
    "# BITWISE OPERATORS , The integers are first converted into binary and then operations are performed on bit by bit, \n",
    "#hence the name bitwise operators.\n",
    "\n",
    "# &, |, ~, ^, >>, <<\n",
    "# and = &\n",
    "# | OR\n",
    "# ~ NOT\n",
    "# ^ XOR\n",
    "# >> Right shift\n",
    "# << Left shit\n",
    "\n",
    "print(a | b)\n"
   ]
  },
  {
   "cell_type": "code",
   "execution_count": 105,
   "id": "b78cf087",
   "metadata": {},
   "outputs": [
    {
     "name": "stdout",
     "output_type": "stream",
     "text": [
      "1.0\n"
     ]
    }
   ],
   "source": [
    "# Assignment Operators\n",
    "\n",
    "# =, ==, += , /=, \n",
    "a = 10\n",
    "a **= 10 \n",
    "print(a)"
   ]
  },
  {
   "cell_type": "code",
   "execution_count": 109,
   "id": "1d330bae",
   "metadata": {},
   "outputs": [
    {
     "name": "stdout",
     "output_type": "stream",
     "text": [
      "yay\n",
      "False\n",
      "True\n"
     ]
    }
   ],
   "source": [
    "# SPecial Operators\n",
    "\n",
    "#Identity Operators\n",
    "# is, is not, \n",
    "\n",
    "# Membership operators\n",
    "# in, not in\n",
    "\n",
    "a = [1,2,3]\n",
    "if 1 in a:\n",
    "    print(\"yay\")\n",
    "print ( a is b)\n",
    "\n",
    "x = \"apple\"\n",
    "y = \"apple\"\n",
    "print (x is not  y)\n",
    "\n",
    "\n",
    "\n"
   ]
  },
  {
   "cell_type": "code",
   "execution_count": null,
   "id": "21907ab1",
   "metadata": {},
   "outputs": [],
   "source": []
  }
 ],
 "metadata": {
  "kernelspec": {
   "display_name": "Python 3 (ipykernel)",
   "language": "python",
   "name": "python3"
  },
  "language_info": {
   "codemirror_mode": {
    "name": "ipython",
    "version": 3
   },
   "file_extension": ".py",
   "mimetype": "text/x-python",
   "name": "python",
   "nbconvert_exporter": "python",
   "pygments_lexer": "ipython3",
   "version": "3.9.13"
  }
 },
 "nbformat": 4,
 "nbformat_minor": 5
}
