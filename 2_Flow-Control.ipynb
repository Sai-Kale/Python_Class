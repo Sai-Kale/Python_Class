{
 "cells": [
  {
   "cell_type": "code",
   "execution_count": null,
   "id": "b31e9aab",
   "metadata": {},
   "outputs": [],
   "source": [
    "# FLOW CONTROL (if - else)\n",
    "#\n"
   ]
  },
  {
   "cell_type": "code",
   "execution_count": 1,
   "id": "204f6f19",
   "metadata": {},
   "outputs": [
    {
     "name": "stdout",
     "output_type": "stream",
     "text": [
      "positive num\n"
     ]
    }
   ],
   "source": [
    "num = 10\n",
    "if num > 0:\n",
    "    print(\"positive num\")\n",
    "else:\n",
    "    print(\"negative number\")"
   ]
  },
  {
   "cell_type": "code",
   "execution_count": 3,
   "id": "d632e69d",
   "metadata": {},
   "outputs": [
    {
     "name": "stdout",
     "output_type": "stream",
     "text": [
      "enter the number0\n",
      "zero\n"
     ]
    }
   ],
   "source": [
    "# IF... ELIF....ELSE Statements\n",
    "\n",
    "num=int(input(\"enter the number\"))\n",
    "\n",
    "if (num > 0):\n",
    "    print(\"positive\")\n",
    "elif (num  == 0):\n",
    "    print (\"zero\")\n",
    "elif (num < 0):\n",
    "    print (\"negative\")\n",
    "else:\n",
    "    print(\"enter an proper integer\")\n",
    "    "
   ]
  },
  {
   "cell_type": "code",
   "execution_count": 7,
   "id": "45996283",
   "metadata": {},
   "outputs": [
    {
     "name": "stdout",
     "output_type": "stream",
     "text": [
      "its zero\n"
     ]
    }
   ],
   "source": [
    "# NESTED If Statements\n",
    "\n",
    "a = 0\n",
    "\n",
    "if a >= 0:\n",
    "    if a == 0:\n",
    "        print (\"its zero\")\n",
    "    else:\n",
    "        print (\"positive\")\n",
    "else:\n",
    "    print(\"negative\")"
   ]
  },
  {
   "cell_type": "code",
   "execution_count": 11,
   "id": "aeec04f3",
   "metadata": {},
   "outputs": [
    {
     "name": "stdout",
     "output_type": "stream",
     "text": [
      "enter first number30\n",
      "enter 2nd number20\n",
      "enter 3rd number10\n",
      "the largest num amost all is 30\n"
     ]
    }
   ],
   "source": [
    "# PYTHON TO PRINT LARGEST NUMBER AMONG 3 NUMBERS\n",
    "\n",
    "num1 = int(input(\"enter first number\"))\n",
    "num2 = int(input(\"enter 2nd number\"))\n",
    "num3 = int(input(\"enter 3rd number\"))\n",
    "\n",
    "if (num1>num2) and (num1 > num3): #logical operator and\n",
    "    largest = num1\n",
    "elif (num2>num1) and (num2 > num3):\n",
    "    largest = num2\n",
    "else:\n",
    "    largest = num3\n",
    "print(\"the largest num amost all is {}\".format(largest))"
   ]
  },
  {
   "cell_type": "markdown",
   "id": "ced3a99c",
   "metadata": {},
   "source": [
    "# WHILE LOOP\n",
    "\n",
    "While loop runs when a given condition is met.\n",
    "\n",
    "If the given expression evaluates to true then it runs.\n",
    "It continues till the given expression is turned to be false."
   ]
  },
  {
   "cell_type": "code",
   "execution_count": 18,
   "id": "ffe5af3b",
   "metadata": {},
   "outputs": [
    {
     "name": "stdout",
     "output_type": "stream",
     "text": [
      "product is:12000000\n"
     ]
    }
   ],
   "source": [
    "# product of all numbers in the list\n",
    "# len starts from 1 where as index starts from zero\n",
    "lst = [10,20,30,40,50]\n",
    "product = 1\n",
    "index = 0 \n",
    "while index < len(lst):\n",
    "    product *= lst[index]\n",
    "    index += 1\n",
    "print(\"product is:{}\".format(product))\n",
    "    "
   ]
  },
  {
   "cell_type": "markdown",
   "id": "ff6d0d14",
   "metadata": {},
   "source": [
    "# WHILE LOOP with ELSE\n",
    "\n",
    "its same as while loop  but with an else condition"
   ]
  },
  {
   "cell_type": "code",
   "execution_count": 21,
   "id": "c29f159c",
   "metadata": {},
   "outputs": [
    {
     "name": "stdout",
     "output_type": "stream",
     "text": [
      "no elements left in the lst\n",
      "product is:12000000\n"
     ]
    }
   ],
   "source": [
    "lst = [10,20,30,40,50]\n",
    "product = 1\n",
    "index = 0 \n",
    "while index < len(lst):\n",
    "    product *= lst[index]\n",
    "    index += 1\n",
    "else:\n",
    "    print(\"no elements left in the lst\")\n",
    "\n",
    "print(\"product is:{}\".format(product))"
   ]
  },
  {
   "cell_type": "code",
   "execution_count": null,
   "id": "cce6945e",
   "metadata": {},
   "outputs": [],
   "source": []
  },
  {
   "cell_type": "code",
   "execution_count": 25,
   "id": "eb27b3da",
   "metadata": {},
   "outputs": [
    {
     "name": "stdout",
     "output_type": "stream",
     "text": [
      "enter the number11\n",
      "11 is  a prime number\n"
     ]
    }
   ],
   "source": [
    "# Checking given number is Prime Number\n",
    "\n",
    "num = int(input(\"enter the number\"))\n",
    "\n",
    "isDivisble = False\n",
    "\n",
    "i = 2  #smallest prime number\n",
    "while i < num:\n",
    "    if num % i == 0:\n",
    "        isDivisible = True\n",
    "        print(\"{} is divisible by {}\".format(num,i))\n",
    "    i+=1\n",
    "\n",
    "if isDivisible:\n",
    "   print(\"{} is  a prime number\".format(num)) \n",
    "else:\n",
    "    print(\"{} is NOT a prime number\".format(num))\n"
   ]
  },
  {
   "cell_type": "markdown",
   "id": "7459d185",
   "metadata": {},
   "source": [
    "# FOR LOOP\n",
    "\n",
    "for loop is used to iterate over a list , tuple, string \n",
    "iterating over a sequence is called traversal.\n",
    "\n",
    "for element in seq:\n",
    "    do stuff"
   ]
  },
  {
   "cell_type": "code",
   "execution_count": 26,
   "id": "db717c0b",
   "metadata": {},
   "outputs": [
    {
     "name": "stdout",
     "output_type": "stream",
     "text": [
      "<class 'int'>\n",
      "<class 'int'>\n",
      "<class 'int'>\n",
      "<class 'int'>\n",
      "<class 'int'>\n",
      "produc is 144\n"
     ]
    }
   ],
   "source": [
    "lst = [1,2,3,4,6]\n",
    "product = 1\n",
    "# iterate over the list\n",
    "for element in lst:\n",
    "    print(type(element))\n",
    "    product *= element\n",
    "\n",
    "print(\"produc is {}\".format(product))"
   ]
  },
  {
   "cell_type": "code",
   "execution_count": 33,
   "id": "c9bf5d85",
   "metadata": {},
   "outputs": [
    {
     "name": "stdout",
     "output_type": "stream",
     "text": [
      "0\n",
      "1\n",
      "2\n",
      "3\n",
      "4\n",
      "5\n",
      "6\n",
      "7\n",
      "8\n",
      "9\n"
     ]
    }
   ],
   "source": [
    "# range() function is most important\n",
    "# in range function it doesnt inlcude last value (0,n) you can iterate till n-1\n",
    "for i in range(0,10):\n",
    "    print(i)\n"
   ]
  },
  {
   "cell_type": "code",
   "execution_count": 31,
   "id": "45440a14",
   "metadata": {},
   "outputs": [
    {
     "name": "stdout",
     "output_type": "stream",
     "text": [
      "2\n",
      "3\n",
      "4\n"
     ]
    }
   ],
   "source": [
    "for x in range(2,5):\n",
    "    print(x)"
   ]
  },
  {
   "cell_type": "code",
   "execution_count": 40,
   "id": "d0e3578a",
   "metadata": {},
   "outputs": [
    {
     "name": "stdout",
     "output_type": "stream",
     "text": [
      "0\n",
      "5\n",
      "10\n"
     ]
    }
   ],
   "source": [
    "# third element mentions the step size\n",
    "for j in range(0,11,5):\n",
    "    print(j)"
   ]
  },
  {
   "cell_type": "code",
   "execution_count": 44,
   "id": "b4b35c12",
   "metadata": {},
   "outputs": [
    {
     "name": "stdout",
     "output_type": "stream",
     "text": [
      "exsist\n",
      "exsist\n",
      "exsist\n"
     ]
    }
   ],
   "source": [
    "lst = [\"apple\",\"ball\",\"cat\"]\n",
    "for cat in lst:\n",
    "    print(\"exsist\")"
   ]
  },
  {
   "cell_type": "code",
   "execution_count": 45,
   "id": "86c45673",
   "metadata": {},
   "outputs": [
    {
     "name": "stdout",
     "output_type": "stream",
     "text": [
      "1\n",
      "2\n",
      "4\n",
      "no items left\n"
     ]
    }
   ],
   "source": [
    "# FOR LOOP with ELSE\n",
    "\n",
    "num = [1,2,4]\n",
    "\n",
    "for item in num:\n",
    "    print(item)\n",
    "else: \n",
    "    print(\"no items left\")"
   ]
  },
  {
   "cell_type": "code",
   "execution_count": 66,
   "id": "bb6800e8",
   "metadata": {},
   "outputs": [
    {
     "name": "stdout",
     "output_type": "stream",
     "text": [
      "prime numbers between 20 and 50\n",
      "23\n",
      "29\n",
      "31\n",
      "37\n",
      "41\n",
      "43\n",
      "47\n"
     ]
    }
   ],
   "source": [
    "# Print Prime Number within a given range'\n",
    "\n",
    "index1 = 20\n",
    "index2 = 50\n",
    "\n",
    "\n",
    "print(\"prime numbers between {0} and {1}\".format(index1,index2))\n",
    "\n",
    "for i in range(index1,index+1):\n",
    "    for j in range(2,i):\n",
    "        if (i%j == 0):\n",
    "            break\n",
    "    else:\n",
    "        print(i)\n"
   ]
  },
  {
   "cell_type": "code",
   "execution_count": 62,
   "id": "f4f3de77",
   "metadata": {},
   "outputs": [
    {
     "name": "stdout",
     "output_type": "stream",
     "text": [
      "Prime numbers between 20 and 50 are :\n",
      "23\n",
      "29\n",
      "31\n",
      "37\n",
      "41\n",
      "43\n",
      "47\n"
     ]
    }
   ],
   "source": [
    "index1 = 20\n",
    "index2 = 50\n",
    "\n",
    "print(\"Prime numbers between {0} and {1} are :\".format(index1, index2))\n",
    "\n",
    "for num in range(index1, index2+1):      #default step size is 1\n",
    "    if num > 1:\n",
    "        isDivisible = False\n",
    "        for index in range(2, num):\n",
    "            if (num % index == 0):\n",
    "                isDivisible = True\n",
    "        if not isDivisible:        \n",
    "            print(num)"
   ]
  },
  {
   "cell_type": "markdown",
   "id": "4900f8dd",
   "metadata": {},
   "source": [
    "# BREAK & CONTINUE \n",
    "\n",
    "break is nothing but to stop running body of a loop.\n"
   ]
  },
  {
   "cell_type": "code",
   "execution_count": 8,
   "id": "dfe62b48",
   "metadata": {},
   "outputs": [
    {
     "name": "stdout",
     "output_type": "stream",
     "text": [
      "1\n",
      "2\n",
      "3\n",
      "5\n",
      "6\n",
      "7\n",
      "8\n",
      "outside of for loop\n"
     ]
    }
   ],
   "source": [
    "numbers = [1,2,3,4,5,6,7,8,9]\n",
    "for num in numbers:\n",
    "    if num == 4:\n",
    "        continue\n",
    "    print(num)\n",
    "    if num == 8:\n",
    "        break\n",
    "else:\n",
    "    print(\"in the else-block now\")\n",
    "print(\"outside of for loop\")"
   ]
  },
  {
   "cell_type": "code",
   "execution_count": 10,
   "id": "94b45434",
   "metadata": {},
   "outputs": [
    {
     "name": "stdout",
     "output_type": "stream",
     "text": [
      "enter the number29\n",
      "29 is a Prime Number\n"
     ]
    }
   ],
   "source": [
    "# Checking whether a number is prime or not using break\n",
    "\n",
    "num = int(input(\"enter the number\"))\n",
    "\n",
    "isDivisible = False\n",
    "\n",
    "i=2\n",
    "while i < num:\n",
    "    if num%i == 0:\n",
    "        isDivisible = True\n",
    "        print(\"{} is divisible by {}\".format(num,i))\n",
    "        break\n",
    "    i += 1\n",
    "if isDivisible:\n",
    "    print(\"{} is NOT a prime number\".format(num))\n",
    "else:\n",
    "    print(\"{} is a Prime Number\".format(num))\n",
    "    "
   ]
  },
  {
   "cell_type": "code",
   "execution_count": null,
   "id": "2dc87792",
   "metadata": {},
   "outputs": [],
   "source": []
  }
 ],
 "metadata": {
  "kernelspec": {
   "display_name": "Python 3 (ipykernel)",
   "language": "python",
   "name": "python3"
  },
  "language_info": {
   "codemirror_mode": {
    "name": "ipython",
    "version": 3
   },
   "file_extension": ".py",
   "mimetype": "text/x-python",
   "name": "python",
   "nbconvert_exporter": "python",
   "pygments_lexer": "ipython3",
   "version": "3.9.13"
  }
 },
 "nbformat": 4,
 "nbformat_minor": 5
}
